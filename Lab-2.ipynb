{
    "metadata": {
        "language_info": {
            "name": "python", 
            "mimetype": "text/x-python", 
            "nbconvert_exporter": "python", 
            "pygments_lexer": "ipython3", 
            "codemirror_mode": {
                "name": "ipython", 
                "version": 3
            }, 
            "file_extension": ".py", 
            "version": "3.5.2"
        }, 
        "kernelspec": {
            "display_name": "Python 3.5 (Experimental) with Spark 2.0", 
            "name": "python3-spark20", 
            "language": "python"
        }
    }, 
    "nbformat": 4, 
    "cells": [
        {
            "metadata": {}, 
            "source": "# Machine Learning with Spark ML\n\n### In this notebook, we will explore machine learning using Spark ML. We will exploit Spark ML's high-level APIs built on top of DataFrames to create and tune machine learning pipelines. Spark ML Pipelines enable combining multiple algorithms into a single pipeline or workflow. We will utilize Spark ML's feature transformers to convert, modify and scale the features that will be used to develop the machine learning model. Finally, we will evaluate and cross validate our model to demonstrate the process of determining a best fit model and load the results in the database.\n\n### We are using machine learning to try to predict records that a human has not seen or vetted before. We will use these predictions to sort the highest priority records for a human to look at. We will use as a training set for the algorithm fake data that has been vetted by an analyst as high, medium or low.\u00b6\n\n### We will use generated travel data that has been examined for patterns of Human Trafficking from dashDB to do the machine learning.  We loaded this data in lab 1.\n\n", 
            "cell_type": "markdown"
        }, 
        {
            "metadata": {}, 
            "source": "## Verify Spark version and existence of Spark", 
            "cell_type": "markdown"
        }, 
        {
            "metadata": {
                "collapsed": false
            }, 
            "source": "print('The spark version is {}.'.format(spark.version))", 
            "execution_count": null, 
            "cell_type": "code", 
            "outputs": []
        }, 
        {
            "metadata": {}, 
            "source": "### Install pixiedust.  With this package we can do some nice visualizations.", 
            "cell_type": "markdown"
        }, 
        {
            "metadata": {
                "collapsed": false
            }, 
            "source": "!pip install pixiedust", 
            "execution_count": null, 
            "cell_type": "code", 
            "outputs": []
        }, 
        {
            "metadata": {}, 
            "source": "### Import the required libraries", 
            "cell_type": "markdown"
        }, 
        {
            "metadata": {
                "collapsed": false
            }, 
            "source": "# Imports for DashDB\nimport jaydebeapi\nfrom ibmdbpy import IdaDataBase\nfrom ibmdbpy import IdaDataFrame\n\n#Imports for Spark\nfrom pyspark.ml.feature import StringIndexer, IndexToString\nfrom pyspark.ml.feature import Bucketizer\nfrom pyspark.mllib.linalg import Vectors\nfrom pyspark.ml.feature import VectorAssembler\nfrom pyspark.ml import Pipeline\nfrom pyspark.ml.feature import Normalizer\nfrom pyspark.ml.classification import LogisticRegression\nfrom pyspark.ml.evaluation import BinaryClassificationEvaluator\nfrom pyspark.ml.tuning import ParamGridBuilder, CrossValidator\nfrom pyspark.ml.classification import NaiveBayes, DecisionTreeClassifier\nfrom pyspark.sql.functions import year\nfrom pyspark.ml.tuning import ParamGridBuilder, CrossValidator\n\n# Imports for pixiedust\nfrom pixiedust.display import *", 
            "execution_count": null, 
            "cell_type": "code", 
            "outputs": []
        }, 
        {
            "metadata": {
                "collapsed": true
            }, 
            "source": "\n## Insert the database connection credentials like we did in lab 1\n\nClick on the cell below, then on the notebook toolbar, click the box of 1's and 0's, find your database connection and click the Insert to code link under the connection name to have a credentials_1 dictionary added to the notebook. If you don't have any connections listed, refer to the PDF file detailing how to add an data source.\n\nConnecting to dashDB requires the following information which are provided by the credentials dictionary inserted:\n\n    Database name\n    Host DNS name or IP address\n    Host port\n    Connection protocol\n    User ID\n    User password\n\nThe information credentials_1 will be used to build a connection string in a subsequent step. Note: it is possible that the credentials may be named credentials_2, etc. If so, simply rename to credentials_1.\n\nThe @hidden_cell directive tells DSX not to export credentials when sharing.\n", 
            "cell_type": "markdown"
        }, 
        {
            "metadata": {
                "collapsed": true
            }, 
            "source": "# The code was removed by DSX for sharing.", 
            "execution_count": null, 
            "cell_type": "code", 
            "outputs": []
        }, 
        {
            "metadata": {}, 
            "source": "## Step 1 - Connect to the database and read in our data", 
            "cell_type": "markdown"
        }, 
        {
            "metadata": {
                "collapsed": false
            }, 
            "source": "sqlContext=SQLContext(sc)\ntrafficking_df = sqlContext.read.jdbc(\n    credentials_1[\"jdbcurl\"], 'FEMALE_HUMAN_TRAFFICKING',\n    properties = {\"user\" : credentials_1[\"username\"], \"password\" : credentials_1[\"password\"]})\n", 
            "execution_count": null, 
            "cell_type": "code", 
            "outputs": []
        }, 
        {
            "metadata": {}, 
            "source": "Show the first several rows of the data", 
            "cell_type": "markdown"
        }, 
        {
            "metadata": {
                "collapsed": false
            }, 
            "source": "trafficking_df.show(5)", 
            "execution_count": null, 
            "cell_type": "code", 
            "outputs": []
        }, 
        {
            "metadata": {}, 
            "source": "## Step 2- Identify our labels and transform \n\nWe will use the 'VETTING_LEVEL' column as a label for training the machine learning model.  This is where our analyst has marked the data as vetted.  \n\nSpark ML requires that that the labels are data type Double, so we will cast the  column as Double (it was inferred as Integer when read into Spark).\n\nwithColumn() is a Spark SQL way to manipulate a dataframe.  Since an RDD is immutable, we create a new RDD each time we transform.  This code creates a new column VettingTemp and sets it to the values in \"VETTING_LEVEL\" cast to a Double.    It then drops column VETTING_LEVEL and renames column VettingTemp to VETTING_LEVEL.", 
            "cell_type": "markdown"
        }, 
        {
            "metadata": {
                "collapsed": false
            }, 
            "source": "DataWithLabels = (trafficking_df.withColumn(\"VettingTemp\", trafficking_df[\"VETTING_LEVEL\"]\n    .cast(\"Double\")).drop(\"VETTING_LEVEL\").withColumnRenamed(\"VettingTemp\", \"VETTING_LEVEL\"))", 
            "execution_count": null, 
            "cell_type": "code", 
            "outputs": []
        }, 
        {
            "metadata": {}, 
            "source": "We want to use year of birth intead of date of birth in our learning.  \n\nAnother way to transform an rdd in Spark is using SQL Syntax.  Here, we will be adding a new field, BIRTH_YEAR to our vetting set.  We will also just select the fields we need.", 
            "cell_type": "markdown"
        }, 
        {
            "metadata": {
                "collapsed": false
            }, 
            "source": "DataWithLabels.createOrReplaceTempView(\"VettingData\")\nAllVettingData = sqlContext.sql (\"SELECT UUID, VETTING_LEVEL, ALT_NAME, OCCUPATION, COUNTRIES_VISITED_COUNT, PASSPORT_COUNTRY_CODE, GENDER, year(BIRTH_DATE) as BIRTH_YEAR, 1 as Counter FROM VettingData\")\nFilteredVettingData = AllVettingData.filter(\"VETTING_LEVEL==100\")\n#AllVettingData.show()\nFilteredVettingData.count()", 
            "execution_count": null, 
            "cell_type": "code", 
            "outputs": []
        }, 
        {
            "metadata": {}, 
            "source": "Use pixiedust to visually explore the data.", 
            "cell_type": "markdown"
        }, 
        {
            "metadata": {
                "pixiedust": {
                    "displayParams": {
                        "rendererId": "bokeh", 
                        "title": "Vetting level histogram", 
                        "valueFields": "Counter", 
                        "aggregation": "SUM", 
                        "keyFields": "VETTING_LEVEL", 
                        "rowCount": "100", 
                        "handlerId": "barChart"
                    }
                }, 
                "collapsed": false
            }, 
            "source": "display(AllVettingData)", 
            "execution_count": null, 
            "cell_type": "code", 
            "outputs": []
        }, 
        {
            "metadata": {}, 
            "source": "Now, let's look at the data we have:\n\nVETTING_LEVEL is in three different statuses:\n\n    10 - HIGH\n    \n    20 - MEDIUM\n    \n    30 - LOW\n\n\nPrint the total number of vetting statuses ", 
            "cell_type": "markdown"
        }, 
        {
            "metadata": {
                "collapsed": false
            }, 
            "source": "print('The number of rows labeled high is {}.'.format(AllVettingData.filter(AllVettingData['VETTING_LEVEL'] == 10).count()))\nprint('The number of rows labeled medium is {}.'.format(AllVettingData.filter(AllVettingData['VETTING_LEVEL'] == 20).count()))\nprint('The number of rows labeled low is {}.'.format(AllVettingData.filter(AllVettingData['VETTING_LEVEL'] == 30).count()))\nprint('The number of unlabled rows is {}.'.format(AllVettingData.filter(AllVettingData['VETTING_LEVEL'] == 100).count()))", 
            "execution_count": null, 
            "cell_type": "code", 
            "outputs": []
        }, 
        {
            "metadata": {}, 
            "source": "The majority of the data has not been labeled (VETTING_LABEL=100 means unvetted).  We can not use it for our training data, so filter it out.\nPrint the total number of rows.", 
            "cell_type": "markdown"
        }, 
        {
            "metadata": {
                "collapsed": false
            }, 
            "source": "LabeledVettingData=AllVettingData.filter(\"VETTING_LEVEL != 100\")\nLabeledVettingData.count()", 
            "execution_count": null, 
            "cell_type": "code", 
            "outputs": []
        }, 
        {
            "metadata": {}, 
            "source": "## Step 3  - Feature Engineering.\n### A feature is the elements of the data that we are using in our learning.  We need to transform each one of our features into a format that SparkML can use it.\nMore about the choices for feature engineering can be found here:\nhttp://spark.apache.org/docs/2.0.0/ml-features.html#stringindexer\n\n\nThe first thing we will do is transorm our lables (VETTING_LEVEL) into a format that we can use in the algorithm, and then get back to 'human readable' from in the end. The ML models require that the labels are in a column called 'label'.    The converter helps us transform these back in the end.\n\n", 
            "cell_type": "markdown"
        }, 
        {
            "metadata": {
                "collapsed": false
            }, 
            "source": "labelIndexer = StringIndexer(inputCol=\"VETTING_LEVEL\", outputCol=\"label\", handleInvalid=\"error\")\nlabelModel = labelIndexer.fit(LabeledVettingData)\nconverter = IndexToString(inputCol=\"prediction\", outputCol=\"predCategory\", labels=labelModel.labels)", 
            "execution_count": null, 
            "cell_type": "code", 
            "outputs": []
        }, 
        {
            "metadata": {}, 
            "source": "Next, we will process all of the features we will use. While there are a variety of choices for transforming elements, we will treat each as a String using the StringIndiser.\n\nStringIndexer is a transformer that encodes a string column to a column of indices. The indices are ordered by value frequencies, so the most frequent value gets index 0. If the input column is numeric, it is cast to string first.\n\nFor our vetting dataset, we are interested in all string based features so we will use the StringIndexer for them.  We need to use 'handleInvalid=\"skip\"' because not all values have been validated in our vetting set.  That means the algorithms will skip these records.", 
            "cell_type": "markdown"
        }, 
        {
            "metadata": {
                "collapsed": false
            }, 
            "source": "occupationIndexer = StringIndexer(inputCol=\"OCCUPATION\", outputCol=\"occupationIndex\", handleInvalid=\"skip\")\ncountryIndexer = StringIndexer(inputCol=\"PASSPORT_COUNTRY_CODE\", outputCol=\"countryIndex\", handleInvalid=\"skip\")\ngenderIndexer = StringIndexer(inputCol=\"GENDER\", outputCol=\"genderIndex\", handleInvalid=\"skip\")\nyearOfBirthIndexer = StringIndexer(inputCol=\"BIRTH_YEAR\", outputCol=\"birthYearIndex\", handleInvalid=\"skip\")", 
            "execution_count": null, 
            "cell_type": "code", 
            "outputs": []
        }, 
        {
            "metadata": {}, 
            "source": "Now, put all of our features into a simple array using a VectorAssembler.\n\nNote that COUNTRIIES_VISITED_COUNT is already a numeric, so we can just put that in the array as is.\n", 
            "cell_type": "markdown"
        }, 
        {
            "metadata": {
                "collapsed": false
            }, 
            "source": "vecAssembler = VectorAssembler(inputCols=[\"occupationIndex\",\"countryIndex\",\"genderIndex\", \"birthYearIndex\", \"COUNTRIES_VISITED_COUNT\"], outputCol=\"features\")", 
            "execution_count": null, 
            "cell_type": "code", 
            "outputs": []
        }, 
        {
            "metadata": {}, 
            "source": "Normalizer will help us normalize the features into a standard frmat.  It can help us improve the behavior of the learning algorithms.\n", 
            "cell_type": "markdown"
        }, 
        {
            "metadata": {
                "collapsed": true
            }, 
            "source": "normalizer = Normalizer(inputCol=\"features\", outputCol=\"normFeatures\", p=1.0)", 
            "execution_count": null, 
            "cell_type": "code", 
            "outputs": []
        }, 
        {
            "metadata": {}, 
            "source": "## Step 4- Declare the model that we want to use\n\nThe model here is Naive Bayes.  It will output each prediction into a 'prediction' column.  Naive Bayes  is a probabistic model that learns based on previous decisions.  We will take a best guess at the paramater 'smoothing'- SparkML will help us tune it later!\n\n", 
            "cell_type": "markdown"
        }, 
        {
            "metadata": {
                "collapsed": false
            }, 
            "source": "nb = NaiveBayes(smoothing=1.0, modelType=\"multinomial\", labelCol=\"label\", predictionCol=\"prediction\")", 
            "execution_count": null, 
            "cell_type": "code", 
            "outputs": []
        }, 
        {
            "metadata": {}, 
            "source": "## Step 5 - Setup the Pipeline\n\nThe pipeline is the guts of the algorithm that strings all the work we've done together.\n\nThe stages are run in order and the input DataFrame is transformed as it passes through each stage.   First, comes the feature transformations, then the assembler to put them togather into one DF.  We pass that into the model. \n\nIn machine learning, it is common to run a sequence of algorithms to process and learn from data, so this can get as complex as we want to make it!", 
            "cell_type": "markdown"
        }, 
        {
            "metadata": {
                "collapsed": false
            }, 
            "source": "pipeline = Pipeline(stages=[labelIndexer,occupationIndexer,countryIndexer, genderIndexer, yearOfBirthIndexer, vecAssembler, normalizer, nb, converter])", 
            "execution_count": null, 
            "cell_type": "code", 
            "outputs": []
        }, 
        {
            "metadata": {}, 
            "source": "## Step 6 - Train the data\n\nWe will split it into training data which is marked and test data which will be used to test the efficiency of the algorithms.\n\nIt is common to split the split up the data randomly into 70% for training and 30% for testing.  If we were to use a bigger test set, we might use an 80% / 20% split.", 
            "cell_type": "markdown"
        }, 
        {
            "metadata": {
                "collapsed": false
            }, 
            "source": "train, test = LabeledVettingData.randomSplit([70.0,30.0], seed=1)\ntrain.cache()\ntest.cache()\nprint('The number of records in the training data set is {}.'.format(train.count()))\nprint('The number of rows labeled high is {}.'.format(train.filter(train['VETTING_LEVEL'] == 10).count()))\nprint('The number of rows labeled medium is {}.'.format(train.filter(train['VETTING_LEVEL'] == 20).count()))\nprint('The number of rows labeled low is {}.'.format(train.filter(train['VETTING_LEVEL'] == 30).count()))\nprint('')\n\nprint('The number of records in the test data set is {}.'.format(test.count()))\nprint('The number of rows labeled high is {}.'.format(test.filter(test['VETTING_LEVEL'] == 10).count()))\nprint('The number of rows labeled medium is {}.'.format(test.filter(test['VETTING_LEVEL'] == 20).count()))\nprint('The number of rows labeled low is {}.'.format(test.filter(test['VETTING_LEVEL'] == 30).count()))", 
            "execution_count": null, 
            "cell_type": "code", 
            "outputs": []
        }, 
        {
            "metadata": {}, 
            "source": " Fit the pipeline to the training data.  This will run the data through the algorithm to train it based on our labled data.\n \n<div class=\"panel-group\" id=\"accordion-3\">\n  <div class=\"panel panel-default\">\n    <div class=\"panel-heading\">\n      <h4 class=\"panel-title\">\n        <a data-toggle=\"collapse\" data-parent=\"#accordion-3\" href=\"#collapse-3\">\n        Hint</a>\n      </h4>\n    </div>\n    <div id=\"collapse-3\" class=\"panel-collapse collapse\">\n      <div class=\"panel-body\">Type (or copy) the following in the cell below: <br>\n          model = pipeline.fit(train)<br>\n      </div>\n    </div>\n  </div>", 
            "cell_type": "markdown"
        }, 
        {
            "metadata": {
                "collapsed": false
            }, 
            "source": "# Fit the pipeline to the training data assigning the result to a variable called 'model'.\n\n", 
            "execution_count": null, 
            "cell_type": "code", 
            "outputs": []
        }, 
        {
            "metadata": {}, 
            "source": "Make predictions on document in the Test data set.  This will test the model based on the 10% data we have left in reserve.  Keep in mind that the model has not seen the data in the test data set.\n\n<div class=\"panel-group\" id=\"accordion-4\">\n  <div class=\"panel panel-default\">\n    <div class=\"panel-heading\">\n      <h4 class=\"panel-title\">\n        <a data-toggle=\"collapse\" data-parent=\"#accordion-4\" href=\"#collapse-4\">\n        Hint</a>\n      </h4>\n    </div>\n    <div id=\"collapse-4\" class=\"panel-collapse collapse\">\n      <div class=\"panel-body\">Type (or copy) the following in the cell below: <br>\n          predictions = model.transform(test)<br>\n      </div>\n    </div>\n  </div>", 
            "cell_type": "markdown"
        }, 
        {
            "metadata": {
                "collapsed": true
            }, 
            "source": "# Make predictions on the test data assigning the result to a variable called 'predictions'.\n", 
            "execution_count": null, 
            "cell_type": "code", 
            "outputs": []
        }, 
        {
            "metadata": {}, 
            "source": "## Step 7 -  Show and Evaluate Results\n\nNote that we only got a small sample of the results back beacuse we have a very small about of training data. ", 
            "cell_type": "markdown"
        }, 
        {
            "metadata": {
                "collapsed": false
            }, 
            "source": "predictions.count()", 
            "execution_count": null, 
            "cell_type": "code", 
            "outputs": []
        }, 
        {
            "metadata": {}, 
            "source": "SparkML has automated ways to look at result quality called Evaluators.  More information can be found here:\nhttp://spark.apache.org/docs/latest/mllib-evaluation-metrics.html\n\nFor simplicity here, we will use a a common evaluation method called Reciever Operator Characteristic.  This genenerally is used for binary classifiers, but we will use it because we only have 3 levels of prediction.\n\nThe curve is created by plotting the true positive rate against the false positive rate at various threshold settings. The ROC curve is thus the sensitivity as a function of fall-out. The area under the ROC curve is useful for comparing and selecting the best machine learning model for a given data set. A model with an area under the ROC curve score near 1 has very good performance. A model with a score near 0.5 is about as good as flipping a coin.", 
            "cell_type": "markdown"
        }, 
        {
            "metadata": {
                "collapsed": false
            }, 
            "source": "evaluator = BinaryClassificationEvaluator().setLabelCol(\"label\").setMetricName(\"areaUnderROC\")\nprint('Area under the ROC curve = {}.'.format(evaluator.evaluate(predictions)))", 
            "execution_count": null, 
            "cell_type": "code", 
            "outputs": []
        }, 
        {
            "metadata": {}, 
            "source": "## Step 8 - Automatic algorithm Tuning - Also Called  Hyperparameter Tuning\n\n\nSpark ML algorithms provide many hyperparameters for tuning models. These hyperparameters are distinct from the model parameters being optimized by Spark ML itself.  Hyperparameter tuning is accomplished by choosing the best set of parameters based on model performance on test data that the model was not trained with. All combinations of hyperparameters specified will be tried in order to find the one that leads to the model with the best evaluation result.", 
            "cell_type": "markdown"
        }, 
        {
            "metadata": {
                "collapsed": true
            }, 
            "source": "\nFirst we will build a paramater grid to tell SparkML what to change in its testing.  Note that we are changing all the paramaters we setup in our pipeline before - the 'smoothing' in our model, and the normalizer parameter.", 
            "cell_type": "markdown"
        }, 
        {
            "metadata": {
                "collapsed": false
            }, 
            "source": "paramGrid = (ParamGridBuilder().addGrid(nb.smoothing, [0.25, 0.5, 0.75])\n                 .addGrid(normalizer.p, [1.0, 2.0]).build())", 
            "execution_count": null, 
            "cell_type": "code", 
            "outputs": []
        }, 
        {
            "metadata": {}, 
            "source": "Now, create a cross validator to tune the pipeline with the generated parameter grid.  Cross-validation attempts to fit the underlying estimator with user-specified combinations of parameters, cross-evaluate the fitted models, and output the best one.  ", 
            "cell_type": "markdown"
        }, 
        {
            "metadata": {
                "collapsed": true
            }, 
            "source": "cv = CrossValidator().setEstimator(pipeline).setEvaluator(evaluator).setEstimatorParamMaps(paramGrid).setNumFolds(10)", 
            "execution_count": null, 
            "cell_type": "code", 
            "outputs": []
        }, 
        {
            "metadata": {}, 
            "source": "Next, we will run the models through the grid we set above.  It runs Cross-evaluate the ML Pipeline to find the best model.  Note that since runs the model several times, it takes a few minutes to run.", 
            "cell_type": "markdown"
        }, 
        {
            "metadata": {
                "collapsed": false
            }, 
            "source": "cvModel = cv.fit(train)\nprint('Area under the ROC curve for best fitted model = {}.'.format(evaluator.evaluate(cvModel.transform(test))))", 
            "execution_count": null, 
            "cell_type": "code", 
            "outputs": []
        }, 
        {
            "metadata": {}, 
            "source": "Let's see what improvement we achieve by tuning the hyperparameters using cross-evaluation ", 
            "cell_type": "markdown"
        }, 
        {
            "metadata": {
                "collapsed": false
            }, 
            "source": "print('Area under the ROC curve for non-tuned model = {}.'.format(evaluator.evaluate(predictions)))\nprint('Area under the ROC curve for best fitted model = {}.'.format(evaluator.evaluate(cvModel.transform(test))))\nprint('Improvement = {0:0.2f}%'.format((evaluator.evaluate(cvModel.transform(test)) - evaluator.evaluate(predictions)) *100 / evaluator.evaluate(predictions)))", 
            "execution_count": null, 
            "cell_type": "code", 
            "outputs": []
        }, 
        {
            "metadata": {}, 
            "source": "We did a bit better with the new params!  Let's use \"cvModel\" instead of \"model\" below, because SparkML told us it was the best result.", 
            "cell_type": "markdown"
        }, 
        {
            "metadata": {}, 
            "source": "## Step 9 - Score the remaining records that were unscored, and load them into a new table in the database.\n\nFirst, we want to only get the unvetted records.", 
            "cell_type": "markdown"
        }, 
        {
            "metadata": {
                "collapsed": true
            }, 
            "source": "NewVettingData=AllVettingData.filter(\"VETTING_LEVEL == 100\")", 
            "execution_count": null, 
            "cell_type": "code", 
            "outputs": []
        }, 
        {
            "metadata": {}, 
            "source": "Next, transform the new model with the new vetting records", 
            "cell_type": "markdown"
        }, 
        {
            "metadata": {
                "collapsed": false
            }, 
            "source": "newPreds = cvModel.transform(NewVettingData)", 
            "execution_count": null, 
            "cell_type": "code", 
            "outputs": []
        }, 
        {
            "metadata": {}, 
            "source": " Show the data we have predicted and some of the fields in the data.  ", 
            "cell_type": "markdown"
        }, 
        {
            "metadata": {
                "collapsed": false
            }, 
            "source": "newPreds.select(\"UUID\", \"prediction\", \"predCategory\", \"probability\", \"ALT_NAME\", \"GENDER\", \"COUNTRIES_VISITED_COUNT\", \"PASSPORT_COUNTRY_CODE\" ).show()", 
            "execution_count": null, 
            "cell_type": "code", 
            "outputs": []
        }, 
        {
            "metadata": {}, 
            "source": "Remember that VETTING_LEVEL is in three different statuses:\n\n\n10- HIGH\n\n20- MEDIUM\n\n30 - LOW\n\n\nLet's print the total number of vetting statuses that we predicted.  The actual predicted data is low because we only have a few vetted records.  Remember that we had to 'skip' and features that were not in our trained data, so if we didn't have someone who was born in a certain year in our training data, we won't be able to predict a result.", 
            "cell_type": "markdown"
        }, 
        {
            "metadata": {
                "collapsed": false
            }, 
            "source": "print('The number of records in the test data set is {}.'.format(newPreds.count()))\nprint('The number of rows labeled high is {}.'.format(newPreds.filter(newPreds['predCategory'] == 10).count()))\nprint('The number of rows labeled medium is {}.'.format(newPreds.filter(newPreds['predCategory'] == 20).count()))\nprint('The number of rows labeled low is {}.'.format(newPreds.filter(newPreds['predCategory'] == 30).count()))", 
            "execution_count": null, 
            "cell_type": "code", 
            "outputs": []
        }, 
        {
            "metadata": {}, 
            "source": "Now, downselect all the values we need to join in our next lab to display the results, and write to the database.  We will only load the unique ID and the prediction into our new table in dashDB.  We'll call the table \"FEMALE_TRAFFICKING_ML_RESULTS\"", 
            "cell_type": "markdown"
        }, 
        {
            "metadata": {
                "collapsed": false
            }, 
            "source": "valuesToWrite= newPreds.select(\"UUID\",  \"predCategory\")\nvaluesToWrite.write.jdbc(credentials_1[\"jdbcurl\"], \"FEMALE_HUMAN_TRAFFICKING_ML_RESULTS\", properties = {\"user\" : credentials_1[\"username\"], \"password\" : credentials_1[\"password\"]}, mode=\"overwrite\")", 
            "execution_count": null, 
            "cell_type": "code", 
            "outputs": []
        }, 
        {
            "metadata": {
                "collapsed": true
            }, 
            "source": "", 
            "execution_count": null, 
            "cell_type": "code", 
            "outputs": []
        }
    ], 
    "nbformat_minor": 0
}