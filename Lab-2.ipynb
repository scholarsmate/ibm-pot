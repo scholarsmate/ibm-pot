{
    "metadata": {
        "language_info": {
            "file_extension": ".py", 
            "version": "3.5.2", 
            "mimetype": "text/x-python", 
            "pygments_lexer": "ipython3", 
            "name": "python", 
            "codemirror_mode": {
                "version": 3, 
                "name": "ipython"
            }, 
            "nbconvert_exporter": "python"
        }, 
        "kernelspec": {
            "display_name": "Python 3.5 (Experimental) with Spark 2.0", 
            "language": "python", 
            "name": "python3-spark20"
        }
    }, 
    "nbformat": 4, 
    "cells": [
        {
            "metadata": {}, 
            "cell_type": "markdown", 
            "source": "# Machine Learning with Spark ML\n\n### In this notebook, we will explore machine learning using Spark ML. We will exploit Spark ML's high-level APIs built on top of DataFrames to create and tune machine learning pipelines. Spark ML Pipelines enable combining multiple algorithms into a single pipeline or workflow. We will utilize Spark ML's feature transformers to convert, modify and scale the features that will be used to develop the machine learning model. Finally, we will evaluate and cross validate our model to demonstrate the process of determining a best fit model and load the results in the database.\n\n### We are using machine learning to try to predict records that a human has not seen or vetted before. We will use these predictions to sort the highest priority records for a human to look at. We will use as a training set for the algorithm fake data that has been vetted by an analyst as high, medium or low.\u00b6\n\n### We will use generated travel data that has been examined for patterns of Human Trafficking from dashDB to do the machine learning.  We loaded this data in lab 1.\n\n"
        }, 
        {
            "metadata": {}, 
            "cell_type": "markdown", 
            "source": "## Verify Spark version and existence of Spark"
        }, 
        {
            "metadata": {
                "collapsed": false
            }, 
            "outputs": [
                {
                    "output_type": "stream", 
                    "text": "The spark version is 2.0.2.\n", 
                    "name": "stdout"
                }
            ], 
            "cell_type": "code", 
            "execution_count": 1, 
            "source": "print('The spark version is {}.'.format(spark.version))"
        }, 
        {
            "metadata": {}, 
            "cell_type": "markdown", 
            "source": "### Install pixiedust.  With this package we can do some nice visualizations."
        }, 
        {
            "metadata": {
                "collapsed": false
            }, 
            "outputs": [
                {
                    "output_type": "stream", 
                    "text": "Requirement already satisfied (use --upgrade to upgrade): pixiedust in /gpfs/global_fs01/sym_shared/YPProdSpark/user/s436-e9ce2d79343485-1f6aadb82297/.local/lib/python3.5/site-packages\nRequirement already satisfied (use --upgrade to upgrade): lxml in /gpfs/global_fs01/sym_shared/YPProdSpark/user/s436-e9ce2d79343485-1f6aadb82297/.local/lib/python3.5/site-packages (from pixiedust)\nRequirement already satisfied (use --upgrade to upgrade): mpld3 in /gpfs/global_fs01/sym_shared/YPProdSpark/user/s436-e9ce2d79343485-1f6aadb82297/.local/lib/python3.5/site-packages (from pixiedust)\n", 
                    "name": "stdout"
                }
            ], 
            "cell_type": "code", 
            "execution_count": 2, 
            "source": "!pip install pixiedust"
        }, 
        {
            "metadata": {}, 
            "cell_type": "markdown", 
            "source": "### Import the required libraries"
        }, 
        {
            "metadata": {
                "collapsed": false
            }, 
            "outputs": [
                {
                    "output_type": "stream", 
                    "text": "Pixiedust database opened successfully\n", 
                    "name": "stdout"
                }, 
                {
                    "metadata": {}, 
                    "output_type": "display_data", 
                    "data": {
                        "text/plain": "<IPython.core.display.HTML object>", 
                        "text/html": "\n        <div style=\"margin:10px\">\n            <a href=\"https://github.com/ibm-cds-labs/pixiedust\" target=\"_new\">\n                <img src=\"https://github.com/ibm-cds-labs/pixiedust/raw/master/docs/_static/pd_icon32.png\" style=\"float:left;margin-right:10px\"/>\n            </a>\n            <span>Pixiedust version 1.0.2</span>\n        </div>\n        "
                    }
                }
            ], 
            "cell_type": "code", 
            "execution_count": 3, 
            "source": "# Imports for DashDB\nimport jaydebeapi\nfrom ibmdbpy import IdaDataBase\nfrom ibmdbpy import IdaDataFrame\n\n#Imports for Spark\nfrom pyspark.ml.feature import StringIndexer, IndexToString\nfrom pyspark.ml.feature import Bucketizer\nfrom pyspark.mllib.linalg import Vectors\nfrom pyspark.ml.feature import VectorAssembler\nfrom pyspark.ml import Pipeline\nfrom pyspark.ml.feature import Normalizer\nfrom pyspark.ml.classification import LogisticRegression\nfrom pyspark.ml.evaluation import BinaryClassificationEvaluator\nfrom pyspark.ml.tuning import ParamGridBuilder, CrossValidator\nfrom pyspark.ml.classification import NaiveBayes, DecisionTreeClassifier\nfrom pyspark.sql.functions import year\nfrom pyspark.ml.tuning import ParamGridBuilder, CrossValidator\n\n# Imports for pixiedust\nfrom pixiedust.display import *"
        }, 
        {
            "metadata": {
                "collapsed": true
            }, 
            "cell_type": "markdown", 
            "source": "\n## Insert the database connection credentials like we did in lab 1\n\nClick on the cell below, then on the notebook toolbar, click the box of 1's and 0's, find your database connection and click the Insert to code link under the connection name to have a credentials_1 dictionary added to the notebook. If you don't have any connections listed, refer to the PDF file detailing how to add an data source.\n\nConnecting to dashDB requires the following information which are provided by the credentials dictionary inserted:\n\n    Database name\n    Host DNS name or IP address\n    Host port\n    Connection protocol\n    User ID\n    User password\n\nThe information credentials_1 will be used to build a connection string in a subsequent step. Note: it is possible that the credentials may be named credentials_2, etc. If so, simply rename to credentials_1.\n\nThe @hidden_cell directive tells DSX not to export credentials when sharing.\n"
        }, 
        {
            "metadata": {
                "collapsed": true
            }, 
            "outputs": [], 
            "cell_type": "code", 
            "execution_count": 4, 
            "source": "# The code was removed by DSX for sharing."
        }, 
        {
            "metadata": {}, 
            "cell_type": "markdown", 
            "source": "## Step 1 - Connect to the database and read in our data"
        }, 
        {
            "metadata": {
                "collapsed": false
            }, 
            "outputs": [], 
            "cell_type": "code", 
            "execution_count": 6, 
            "source": "sqlContext=SQLContext(sc)\ntrafficking_df = sqlContext.read.jdbc(\n    credentials_1[\"jdbcurl\"], 'FEMALE_HUMAN_TRAFFICKING',\n    properties = {\"user\" : credentials_1[\"username\"], \"password\" : credentials_1[\"password\"]})\n"
        }, 
        {
            "metadata": {}, 
            "cell_type": "markdown", 
            "source": "Show the first several rows of the data"
        }, 
        {
            "metadata": {
                "collapsed": false
            }, 
            "outputs": [
                {
                    "output_type": "stream", 
                    "text": "+-------------+--------------------+------+---+----------+-------------+------------------+--------------------+--------------------+-----------+---------------+----------------+---------------------+--------------------+-----------------------+----------------------------+--------------------+----------------------------+----------------------+------------------------------+----------------------+------------------------------+------------------------+--------------------+\n|VETTING_LEVEL|                NAME|GENDER|AGE|BIRTH_DATE|BIRTH_COUNTRY|BIRTH_COUNTRY_CODE|          OCCUPATION|             ADDRESS|        SSN|PASSPORT_NUMBER|PASSPORT_COUNTRY|PASSPORT_COUNTRY_CODE|   COUNTRIES_VISITED|COUNTRIES_VISITED_COUNT|ARRIVAL_AIRPORT_COUNTRY_CODE|ARRIVAL_AIRPORT_IATA|ARRIVAL_AIRPORT_MUNICIPALITY|ARRIVAL_AIRPORT_REGION|DEPARTURE_AIRPORT_COUNTRY_CODE|DEPARTURE_AIRPORT_IATA|DEPARTURE_AIRPORT_MUNICIPALITY|DEPARTURE_AIRPORT_REGION|                UUID|\n+-------------+--------------------+------+---+----------+-------------+------------------+--------------------+--------------------+-----------+---------------+----------------+---------------------+--------------------+-----------------------+----------------------------+--------------------+----------------------------+----------------------+------------------------------+----------------------+------------------------------+------------------------+--------------------+\n|          100|      Kayla Robinson|     F| 35|1981-12-20|        Ghana|                GH|Accommodation man...|580 Robert Dale A...|974-55-8173|       28737806|           Ghana|                   GH|      LB,EG,HK,QA,PK|                      5|                          US|                 IAH|                     Houston|                 US-TX|                            LB|                   BEY|                        Beirut|                   LB-JL|bd9f2f01-3c8b-4ab...|\n|           30| Carrie Daisy Miller|     F| 20|1997-03-11|        Ghana|                GH|Accounting techni...|6607 Watson Trail...|890-85-1188|      284668966|           Ghana|                   GH|EG,AR,PA,DZ,RU,RU,AL|                      7|                          US|                 SJC|                    San Jose|                 US-CA|                            EG|                   HRG|                      Hurghada|                   EG-BA|46c4f998-da12-4bb...|\n|          100|Adriana Meridie R...|     F| 33|1984-01-04|        Ghana|                GH|Intelligence analyst|9836 Dudley Tunne...|774-26-6942|      101969947|           Ghana|                   GH|BY,SI,TN,PG,UA,KW...|                     11|                          US|                 CAE|                    Columbia|                 US-SC|                            BY|                   MSQ|                         Minsk|                   BY-MI|e837d709-3d9e-4e8...|\n|          100|         Brooke King|     F| 46|1970-05-22|        Ghana|                GH|Special effects a...|1198 Craig Green,...|141-46-6328|      166077088|           Ghana|                   GH|            OM,SK,AL|                      3|                          US|                 AUS|                      Austin|                 US-TX|                            OM|                   MCT|                        Muscat|                   OM-MA|bc944b4c-adc6-484...|\n|          100|        Meghan Moses|     F| 22|1994-08-27|        Ghana|                GH|Forest/woodland m...|770 Whitney Est A...|395-82-6068|      308561300|           Ghana|                   GH|                  QA|                      1|                          US|                 ROC|                   Rochester|                 US-NY|                            QA|                   DOH|                          Doha|                   QA-DA|88b7a2e4-3bca-41a...|\n+-------------+--------------------+------+---+----------+-------------+------------------+--------------------+--------------------+-----------+---------------+----------------+---------------------+--------------------+-----------------------+----------------------------+--------------------+----------------------------+----------------------+------------------------------+----------------------+------------------------------+------------------------+--------------------+\nonly showing top 5 rows\n\n", 
                    "name": "stdout"
                }
            ], 
            "cell_type": "code", 
            "execution_count": 7, 
            "source": "trafficking_df.show(5)"
        }, 
        {
            "metadata": {}, 
            "cell_type": "markdown", 
            "source": "## Step 2- Identify our labels and transform \n\nWe will use the 'VETTING_LEVEL' column as a label for training the machine learning model.  This is where our analyst has marked the data as vetted.  \n\nSpark ML requires that that the labels are data type Double, so we will cast the  column as Double (it was inferred as Integer when read into Spark).\n\nwithColumn() is a Spark SQL way to manipulate a dataframe.  Since an RDD is immutable, we create a new RDD each time we transform.  This code creates a new column VettingTemp and sets it to the values in \"VETTING_LEVEL\" cast to a Double.    It then drops column VETTING_LEVEL and renames column VettingTemp to VETTING_LEVEL."
        }, 
        {
            "metadata": {
                "collapsed": false
            }, 
            "outputs": [], 
            "cell_type": "code", 
            "execution_count": 8, 
            "source": "DataWithLabels = (trafficking_df.withColumn(\"VettingTemp\", trafficking_df[\"VETTING_LEVEL\"]\n    .cast(\"Double\")).drop(\"VETTING_LEVEL\").withColumnRenamed(\"VettingTemp\", \"VETTING_LEVEL\"))"
        }, 
        {
            "metadata": {}, 
            "cell_type": "markdown", 
            "source": "We want to use year of birth intead of date of birth in our learning.  \n\nAnother way to transform an rdd in Spark is using SQL Syntax.  Here, we will be adding a new field, BIRTH_YEAR to our vetting set.  We will also just select the fields we need."
        }, 
        {
            "metadata": {
                "collapsed": false
            }, 
            "outputs": [
                {
                    "metadata": {}, 
                    "output_type": "execute_result", 
                    "execution_count": 10, 
                    "data": {
                        "text/plain": "907"
                    }
                }
            ], 
            "cell_type": "code", 
            "execution_count": 10, 
            "source": "DataWithLabels.createOrReplaceTempView(\"VettingData\")\nAllVettingData = sqlContext.sql (\"SELECT UUID, VETTING_LEVEL, ALT_NAME, OCCUPATION, COUNTRIES_VISITED_COUNT, PASSPORT_COUNTRY_CODE, GENDER, year(BIRTH_DATE) as BIRTH_YEAR, 1 as Counter FROM VettingData\")\nFilteredVettingData = AllVettingData.filter(\"VETTING_LEVEL==100\")\n#AllVettingData.show()\nFilteredVettingData.count()"
        }, 
        {
            "metadata": {}, 
            "cell_type": "markdown", 
            "source": "Use pixiedust to visually explore the data."
        }, 
        {
            "metadata": {
                "pixiedust": {
                    "displayParams": {
                        "rowCount": "100", 
                        "handlerId": "barChart", 
                        "aggregation": "SUM", 
                        "keyFields": "VETTING_LEVEL", 
                        "valueFields": "Counter", 
                        "rendererId": "bokeh", 
                        "title": "Vetting level histogram"
                    }
                }, 
                "collapsed": false
            }, 
            "outputs": [
                {
                    "metadata": {}, 
                    "output_type": "display_data", 
                    "data": {
                        "text/plain": "<IPython.core.display.HTML object>", 
                        "text/html": "<style type=\"text/css\">.pd_warning{display:none;}</style><div class=\"pd_warning\"><em>Hey, there's something awesome here! To see it, open this notebook outside GitHub, in a viewer like Jupyter</em></div>\n        <div class=\"pd_save is-viewer-good\" style=\"padding-right:10px;text-align: center;line-height:initial !important;font-size: xx-large;font-weight: 500;color: coral;\">\n            Vetting level histogram\n        </div>\n    <div id=\"chartFigure8064408e\" class=\"pd_save is-viewer-good\" style=\"overflow-x:auto\">\n            \n                    \n\n    <div class=\"bk-root\">\n        <div style=\"width: 2238px; height: 1707px;\" id=\"modelid_49d254d8-a52d-4c00-91c4-4c3dd7e70a41\" class=\"bk-grid-column bk-layout-fixed\"><div style=\"width: 2238px; height: 30px;\" id=\"modelid_d979d422-7850-42a5-a7af-785779b7836e\" class=\"bk-toolbar-box bk-layout-scale_width\"><div style=\"left: 0px; top: 0px; width: 2238px; height: 30px;\" id=\"modelid_ToolbarBoxToolbar-E99789A105FE4E0D87DE01AA8B53B66C\" class=\"bk-toolbar-wrapper bk-layout-scale_width\"><div class=\"bk-toolbar-above bk-plot-above bk-toolbar-not-sticky bk-toolbar-active\">\n  \n  <a href=\"http://bokeh.pydata.org/\" target=\"_blank\" class=\"bk-logo bk-logo-small\"></a>\n  \n  <div class=\"bk-button-bar\">\n    <ul class=\"bk-button-bar-list\" type=\"pan\"><li><button type=\"button\" class=\"bk-toolbar-button hover active\">\n  <div class=\"bk-btn-icon bk-tool-icon-pan\"></div>\n  <span class=\"tip\">Pan</span>\n</button>\n</li><li><button type=\"button\" class=\"bk-toolbar-button hover\">\n  <div class=\"bk-btn-icon bk-tool-icon-box-zoom\"></div>\n  <span class=\"tip\">Box Zoom</span>\n</button>\n</li></ul>\n    <ul class=\"bk-button-bar-list\" type=\"scroll\"><li><button type=\"button\" class=\"bk-toolbar-button hover\">\n  <div class=\"bk-btn-icon bk-tool-icon-wheel-zoom\"></div>\n  <span class=\"tip\">Wheel Zoom</span>\n</button>\n</li></ul>\n    <ul class=\"bk-button-bar-list\" type=\"pinch\"></ul>\n    <ul class=\"bk-button-bar-list\" type=\"tap\"></ul>\n    <ul class=\"bk-button-bar-list\" type=\"press\"></ul>\n    <ul class=\"bk-button-bar-list\" type=\"rotate\"></ul>\n    <ul class=\"bk-button-bar-list\" type=\"actions\"><li><button type=\"button\" class=\"bk-toolbar-button hover\">\n  <div class=\"bk-btn-icon bk-tool-icon-reset\"></div>\n  <span class=\"tip\">Reset</span>\n</button>\n</li></ul>\n    <div style=\"display: none;\" class=\"bk-button-bar-list bk-bs-dropdown\" type=\"inspectors\"></div>\n    <ul class=\"bk-button-bar-list\" type=\"help\"><li><button type=\"button\" class=\"bk-toolbar-button hover\">\n  <div class=\"bk-btn-icon bk-tool-icon-help\"></div>\n  <span class=\"tip\">Click the question mark to learn more about Bokeh plot tools.</span>\n</button>\n</li></ul>\n  </div>\n</div>\n</div></div><div style=\"width: 2238px; height: 1677px;\" id=\"modelid_d37ed795-f854-4f58-863b-169eeb08decf\" class=\"bk-grid-column bk-layout-fixed\"><div style=\"width: 2238px; height: 1677px;\" id=\"modelid_0a2dd914-c17e-446a-8cd4-062d22661cdf\" class=\"bk-grid-row bk-layout-fixed\"><div style=\"width: 2238px; height: 1677px;\" id=\"modelid_fa8554cb-42c6-4be2-9558-58213a7c19b7\" class=\"bk-plot-layout bk-layout-fixed\"><div style=\"position: absolute; left: 0px; top: 0px; width: 2238px; height: 1677px;\" class=\"bk-plot-wrapper\"><div style=\"-moz-user-select: none; width: 2238px; height: 1677px;\" class=\"bk-canvas-wrapper\">\n<div class=\"bk-canvas-events\"></div>\n<div class=\"bk-canvas-overlays\"><div style=\"display: none;\" class=\"bk-shading\"></div></div>\n<canvas height=\"1677\" width=\"2238\" style=\"width: 2238px; height: 1677px;\" class=\"bk-canvas\"></canvas></div></div></div></div></div></div>\n    </div>\n<script type=\"text/javascript\">\n  \n  (function(global) {\n    function now() {\n      return new Date();\n    }\n  \n    if (typeof (window._bokeh_onload_callbacks) === \"undefined\") {\n      window._bokeh_onload_callbacks = [];\n    }\n  \n    function run_callbacks() {\n      window._bokeh_onload_callbacks.forEach(function(callback) { callback() });\n      delete window._bokeh_onload_callbacks\n      console.info(\"Bokeh: all callbacks have finished\");\n    }\n  \n    function load_libs(js_urls, callback) {\n      window._bokeh_onload_callbacks.push(callback);\n      if (window._bokeh_is_loading > 0) {\n        console.log(\"Bokeh: BokehJS is being loaded, scheduling callback at\", now());\n        return null;\n      }\n      if (js_urls == null || js_urls.length === 0) {\n        run_callbacks();\n        return null;\n      }\n      console.log(\"Bokeh: BokehJS not loaded, scheduling load and callback at\", now());\n      window._bokeh_is_loading = js_urls.length;\n      for (var i = 0; i < js_urls.length; i++) {\n        var url = js_urls[i];\n        var s = document.createElement('script');\n        s.src = url;\n        s.async = false;\n        s.onreadystatechange = s.onload = function() {\n          window._bokeh_is_loading--;\n          if (window._bokeh_is_loading === 0) {\n            console.log(\"Bokeh: all BokehJS libraries loaded\");\n            run_callbacks()\n          }\n        };\n        s.onerror = function() {\n          console.warn(\"failed to load library \" + url);\n        };\n        console.log(\"Bokeh: injecting script tag for BokehJS library: \", url);\n        document.getElementsByTagName(\"head\")[0].appendChild(s);\n      }\n    };var element = document.getElementById(\"4c0b9d1c-424e-4e50-90b7-12d312c4c0e5\");\n    if (element == null) {\n      console.log(\"Bokeh: ERROR: autoload.js configured with elementid '4c0b9d1c-424e-4e50-90b7-12d312c4c0e5' but no matching script tag was found. \")\n      return false;\n    }\n  \n    var js_urls = [];\n  \n    var inline_js = [\n      function(Bokeh) {\n        Bokeh.$(function() {\n            var docs_json = {\"192fb6f3-fe60-4ad9-88b3-0b15bdffe58a\":{\"roots\":{\"references\":[{\"attributes\":{\"overlay\":{\"id\":\"86280247-ef09-4f3f-8dbb-557b33a08489\",\"type\":\"BoxAnnotation\"},\"plot\":{\"id\":\"fa8554cb-42c6-4be2-9558-58213a7c19b7\",\"subtype\":\"Chart\",\"type\":\"Plot\"}},\"id\":\"b4c74b71-5094-41de-9813-7b35c0b6aea7\",\"type\":\"BoxZoomTool\"},{\"attributes\":{\"callback\":null,\"column_names\":[\"width\",\"line_color\",\"x\",\"fill_alpha\",\"line_alpha\",\"y\",\"label\",\"height\",\"color\"],\"data\":{\"VETTING_LEVEL\":[100.0],\"chart_index\":[{\"VETTING_LEVEL\":100.0}],\"color\":[\"#f22c40\"],\"fill_alpha\":[0.8],\"height\":[907.0],\"label\":[{\"VETTING_LEVEL\":100.0}],\"line_alpha\":[1.0],\"line_color\":[\"white\"],\"width\":[0.8],\"x\":[\"100.0\"],\"y\":[453.5]}},\"id\":\"e3680d3a-d962-4e20-b5b9-05d1df1831b5\",\"type\":\"ColumnDataSource\"},{\"attributes\":{\"data_source\":{\"id\":\"e3680d3a-d962-4e20-b5b9-05d1df1831b5\",\"type\":\"ColumnDataSource\"},\"glyph\":{\"id\":\"ddff9f8b-1312-4815-86c8-55d633f036d5\",\"type\":\"Rect\"},\"hover_glyph\":null,\"nonselection_glyph\":null,\"selection_glyph\":null},\"id\":\"5e5de0c7-5051-4833-aaae-77e0a31c07dc\",\"type\":\"GlyphRenderer\"},{\"attributes\":{\"bottom_units\":\"screen\",\"fill_alpha\":{\"value\":0.5},\"fill_color\":{\"value\":\"lightgrey\"},\"left_units\":\"screen\",\"level\":\"overlay\",\"line_alpha\":{\"value\":1.0},\"line_color\":{\"value\":\"black\"},\"line_dash\":[4,4],\"line_width\":{\"value\":2},\"plot\":null,\"render_mode\":\"css\",\"right_units\":\"screen\",\"top_units\":\"screen\"},\"id\":\"86280247-ef09-4f3f-8dbb-557b33a08489\",\"type\":\"BoxAnnotation\"},{\"attributes\":{\"legends\":[[\"10.0\",[{\"id\":\"4379bb30-838d-4641-aef4-91f805f0b9a2\",\"type\":\"GlyphRenderer\"}]],[\"20.0\",[{\"id\":\"d8febb9a-4562-41e4-99ba-57b6b86d9265\",\"type\":\"GlyphRenderer\"}]],[\"30.0\",[{\"id\":\"44863b49-116f-44bc-b53e-0ed21f97d74e\",\"type\":\"GlyphRenderer\"}]],[\"100.0\",[{\"id\":\"5e5de0c7-5051-4833-aaae-77e0a31c07dc\",\"type\":\"GlyphRenderer\"}]]],\"location\":\"top_left\",\"plot\":{\"id\":\"fa8554cb-42c6-4be2-9558-58213a7c19b7\",\"subtype\":\"Chart\",\"type\":\"Plot\"}},\"id\":\"2ef3ab34-9428-4465-b60c-9e93338da321\",\"type\":\"Legend\"},{\"attributes\":{\"axis_label\":\"Counter\",\"formatter\":{\"id\":\"8a5cf5ff-002e-4f53-9c41-f0a7e31ceb70\",\"type\":\"BasicTickFormatter\"},\"plot\":{\"id\":\"fa8554cb-42c6-4be2-9558-58213a7c19b7\",\"subtype\":\"Chart\",\"type\":\"Plot\"},\"ticker\":{\"id\":\"76c20c9f-8edc-45ee-8d79-40a2aa14f1c4\",\"type\":\"BasicTicker\"}},\"id\":\"284f8d0b-8acd-48be-9ebb-c45ba59469e6\",\"type\":\"LinearAxis\"},{\"attributes\":{\"data_source\":{\"id\":\"7455fb47-23a3-4b4f-95ce-a7bae6d06bc0\",\"type\":\"ColumnDataSource\"},\"glyph\":{\"id\":\"00e455c4-a247-4393-961b-af5a4cadc1c8\",\"type\":\"Rect\"},\"hover_glyph\":null,\"nonselection_glyph\":null,\"selection_glyph\":null},\"id\":\"4379bb30-838d-4641-aef4-91f805f0b9a2\",\"type\":\"GlyphRenderer\"},{\"attributes\":{\"callback\":null,\"column_names\":[\"width\",\"line_color\",\"x\",\"fill_alpha\",\"line_alpha\",\"y\",\"label\",\"height\",\"color\"],\"data\":{\"VETTING_LEVEL\":[30.0],\"chart_index\":[{\"VETTING_LEVEL\":30.0}],\"color\":[\"#f22c40\"],\"fill_alpha\":[0.8],\"height\":[96.0],\"label\":[{\"VETTING_LEVEL\":30.0}],\"line_alpha\":[1.0],\"line_color\":[\"white\"],\"width\":[0.8],\"x\":[\"30.0\"],\"y\":[48.0]}},\"id\":\"8c0568c5-ab86-4aac-b17c-4279b5896376\",\"type\":\"ColumnDataSource\"},{\"attributes\":{\"plot\":{\"id\":\"fa8554cb-42c6-4be2-9558-58213a7c19b7\",\"subtype\":\"Chart\",\"type\":\"Plot\"}},\"id\":\"4a4e6ea1-0f1f-427a-b845-f3f5c9fb9193\",\"type\":\"SaveTool\"},{\"attributes\":{\"children\":[{\"id\":\"0a2dd914-c17e-446a-8cd4-062d22661cdf\",\"type\":\"Row\"}]},\"id\":\"d37ed795-f854-4f58-863b-169eeb08decf\",\"type\":\"Column\"},{\"attributes\":{\"callback\":null,\"factors\":[\"10.0\",\"20.0\",\"30.0\",\"100.0\"]},\"id\":\"d9d11a08-2d15-448b-8fa1-b5350768ced7\",\"type\":\"FactorRange\"},{\"attributes\":{\"plot\":{\"id\":\"fa8554cb-42c6-4be2-9558-58213a7c19b7\",\"subtype\":\"Chart\",\"type\":\"Plot\"}},\"id\":\"002e4aa6-83cb-47f4-85e2-137b01b7fe46\",\"type\":\"WheelZoomTool\"},{\"attributes\":{\"plot\":{\"id\":\"fa8554cb-42c6-4be2-9558-58213a7c19b7\",\"subtype\":\"Chart\",\"type\":\"Plot\"}},\"id\":\"47518aad-ce3b-4de9-8647-29f5fa03b86e\",\"type\":\"ResetTool\"},{\"attributes\":{\"data_source\":{\"id\":\"8c0568c5-ab86-4aac-b17c-4279b5896376\",\"type\":\"ColumnDataSource\"},\"glyph\":{\"id\":\"4d4d3e2f-d48d-43ab-9d1e-97bcdb35568a\",\"type\":\"Rect\"},\"hover_glyph\":null,\"nonselection_glyph\":null,\"selection_glyph\":null},\"id\":\"44863b49-116f-44bc-b53e-0ed21f97d74e\",\"type\":\"GlyphRenderer\"},{\"attributes\":{\"children\":[{\"id\":\"fa8554cb-42c6-4be2-9558-58213a7c19b7\",\"subtype\":\"Chart\",\"type\":\"Plot\"}]},\"id\":\"0a2dd914-c17e-446a-8cd4-062d22661cdf\",\"type\":\"Row\"},{\"attributes\":{\"plot\":{\"id\":\"fa8554cb-42c6-4be2-9558-58213a7c19b7\",\"subtype\":\"Chart\",\"type\":\"Plot\"}},\"id\":\"c43b3e14-d9af-40c7-9ede-2c03098e9fb7\",\"type\":\"PanTool\"},{\"attributes\":{\"axis_label\":\"Vetting_Level\",\"formatter\":{\"id\":\"fd4aabca-83f0-4e74-8914-984cffbd369c\",\"type\":\"CategoricalTickFormatter\"},\"major_label_orientation\":0.7853981633974483,\"plot\":{\"id\":\"fa8554cb-42c6-4be2-9558-58213a7c19b7\",\"subtype\":\"Chart\",\"type\":\"Plot\"},\"ticker\":{\"id\":\"94aba263-2acf-4c4c-93f6-979961c5823b\",\"type\":\"CategoricalTicker\"}},\"id\":\"48ae57d7-4993-4261-ab11-0262bfce4b23\",\"type\":\"CategoricalAxis\"},{\"attributes\":{\"plot\":null,\"text\":null},\"id\":\"ef1fb97d-6608-48db-8ff4-e148d38f0270\",\"type\":\"Title\"},{\"attributes\":{\"dimension\":1,\"plot\":{\"id\":\"fa8554cb-42c6-4be2-9558-58213a7c19b7\",\"subtype\":\"Chart\",\"type\":\"Plot\"},\"ticker\":{\"id\":\"76c20c9f-8edc-45ee-8d79-40a2aa14f1c4\",\"type\":\"BasicTicker\"}},\"id\":\"d2a57aa5-c223-49ee-b933-c408675fab92\",\"type\":\"Grid\"},{\"attributes\":{\"children\":[{\"id\":\"d979d422-7850-42a5-a7af-785779b7836e\",\"type\":\"ToolbarBox\"},{\"id\":\"d37ed795-f854-4f58-863b-169eeb08decf\",\"type\":\"Column\"}]},\"id\":\"49d254d8-a52d-4c00-91c4-4c3dd7e70a41\",\"type\":\"Column\"},{\"attributes\":{\"below\":[{\"id\":\"48ae57d7-4993-4261-ab11-0262bfce4b23\",\"type\":\"CategoricalAxis\"}],\"left\":[{\"id\":\"284f8d0b-8acd-48be-9ebb-c45ba59469e6\",\"type\":\"LinearAxis\"}],\"plot_height\":1677,\"plot_width\":2238,\"renderers\":[{\"id\":\"86280247-ef09-4f3f-8dbb-557b33a08489\",\"type\":\"BoxAnnotation\"},{\"id\":\"4379bb30-838d-4641-aef4-91f805f0b9a2\",\"type\":\"GlyphRenderer\"},{\"id\":\"d8febb9a-4562-41e4-99ba-57b6b86d9265\",\"type\":\"GlyphRenderer\"},{\"id\":\"44863b49-116f-44bc-b53e-0ed21f97d74e\",\"type\":\"GlyphRenderer\"},{\"id\":\"5e5de0c7-5051-4833-aaae-77e0a31c07dc\",\"type\":\"GlyphRenderer\"},{\"id\":\"2ef3ab34-9428-4465-b60c-9e93338da321\",\"type\":\"Legend\"},{\"id\":\"48ae57d7-4993-4261-ab11-0262bfce4b23\",\"type\":\"CategoricalAxis\"},{\"id\":\"284f8d0b-8acd-48be-9ebb-c45ba59469e6\",\"type\":\"LinearAxis\"},{\"id\":\"d2a57aa5-c223-49ee-b933-c408675fab92\",\"type\":\"Grid\"}],\"title\":{\"id\":\"ef1fb97d-6608-48db-8ff4-e148d38f0270\",\"type\":\"Title\"},\"tool_events\":{\"id\":\"680c909a-6d46-4b98-affb-5daeded4e089\",\"type\":\"ToolEvents\"},\"toolbar\":{\"id\":\"c6a7406d-08a7-4159-a90e-ff5c5ef64d49\",\"type\":\"Toolbar\"},\"toolbar_location\":null,\"x_mapper_type\":\"auto\",\"x_range\":{\"id\":\"d9d11a08-2d15-448b-8fa1-b5350768ced7\",\"type\":\"FactorRange\"},\"y_mapper_type\":\"auto\",\"y_range\":{\"id\":\"dfc2b620-8033-4edd-8e84-e9ebc7e251bb\",\"type\":\"Range1d\"}},\"id\":\"fa8554cb-42c6-4be2-9558-58213a7c19b7\",\"subtype\":\"Chart\",\"type\":\"Plot\"},{\"attributes\":{},\"id\":\"94aba263-2acf-4c4c-93f6-979961c5823b\",\"type\":\"CategoricalTicker\"},{\"attributes\":{\"fill_alpha\":{\"field\":\"fill_alpha\"},\"fill_color\":{\"field\":\"color\"},\"height\":{\"field\":\"height\",\"units\":\"data\"},\"line_color\":{\"field\":\"line_color\"},\"width\":{\"field\":\"width\",\"units\":\"data\"},\"x\":{\"field\":\"x\"},\"y\":{\"field\":\"y\"}},\"id\":\"00e455c4-a247-4393-961b-af5a4cadc1c8\",\"type\":\"Rect\"},{\"attributes\":{\"callback\":null,\"column_names\":[\"width\",\"line_color\",\"x\",\"fill_alpha\",\"line_alpha\",\"y\",\"label\",\"height\",\"color\"],\"data\":{\"VETTING_LEVEL\":[10.0],\"chart_index\":[{\"VETTING_LEVEL\":10.0}],\"color\":[\"#f22c40\"],\"fill_alpha\":[0.8],\"height\":[42.0],\"label\":[{\"VETTING_LEVEL\":10.0}],\"line_alpha\":[1.0],\"line_color\":[\"white\"],\"width\":[0.8],\"x\":[\"10.0\"],\"y\":[21.0]}},\"id\":\"7455fb47-23a3-4b4f-95ce-a7bae6d06bc0\",\"type\":\"ColumnDataSource\"},{\"attributes\":{},\"id\":\"8a5cf5ff-002e-4f53-9c41-f0a7e31ceb70\",\"type\":\"BasicTickFormatter\"},{\"attributes\":{\"sizing_mode\":\"scale_width\",\"toolbar_location\":\"above\",\"tools\":[{\"id\":\"c43b3e14-d9af-40c7-9ede-2c03098e9fb7\",\"type\":\"PanTool\"},{\"id\":\"002e4aa6-83cb-47f4-85e2-137b01b7fe46\",\"type\":\"WheelZoomTool\"},{\"id\":\"b4c74b71-5094-41de-9813-7b35c0b6aea7\",\"type\":\"BoxZoomTool\"},{\"id\":\"4a4e6ea1-0f1f-427a-b845-f3f5c9fb9193\",\"type\":\"SaveTool\"},{\"id\":\"47518aad-ce3b-4de9-8647-29f5fa03b86e\",\"type\":\"ResetTool\"},{\"id\":\"54da643b-77e3-45d9-886b-d146917009a2\",\"type\":\"HelpTool\"}]},\"id\":\"d979d422-7850-42a5-a7af-785779b7836e\",\"type\":\"ToolbarBox\"},{\"attributes\":{\"fill_alpha\":{\"field\":\"fill_alpha\"},\"fill_color\":{\"field\":\"color\"},\"height\":{\"field\":\"height\",\"units\":\"data\"},\"line_color\":{\"field\":\"line_color\"},\"width\":{\"field\":\"width\",\"units\":\"data\"},\"x\":{\"field\":\"x\"},\"y\":{\"field\":\"y\"}},\"id\":\"e516a427-db2f-483c-a2db-b08d02a93545\",\"type\":\"Rect\"},{\"attributes\":{\"data_source\":{\"id\":\"e28e2b51-8dae-4212-bd5a-8ae5ca1e64b0\",\"type\":\"ColumnDataSource\"},\"glyph\":{\"id\":\"e516a427-db2f-483c-a2db-b08d02a93545\",\"type\":\"Rect\"},\"hover_glyph\":null,\"nonselection_glyph\":null,\"selection_glyph\":null},\"id\":\"d8febb9a-4562-41e4-99ba-57b6b86d9265\",\"type\":\"GlyphRenderer\"},{\"attributes\":{},\"id\":\"fd4aabca-83f0-4e74-8914-984cffbd369c\",\"type\":\"CategoricalTickFormatter\"},{\"attributes\":{\"callback\":null,\"end\":952.35},\"id\":\"dfc2b620-8033-4edd-8e84-e9ebc7e251bb\",\"type\":\"Range1d\"},{\"attributes\":{},\"id\":\"680c909a-6d46-4b98-affb-5daeded4e089\",\"type\":\"ToolEvents\"},{\"attributes\":{\"active_drag\":\"auto\",\"active_scroll\":\"auto\",\"active_tap\":\"auto\",\"tools\":[{\"id\":\"c43b3e14-d9af-40c7-9ede-2c03098e9fb7\",\"type\":\"PanTool\"},{\"id\":\"002e4aa6-83cb-47f4-85e2-137b01b7fe46\",\"type\":\"WheelZoomTool\"},{\"id\":\"b4c74b71-5094-41de-9813-7b35c0b6aea7\",\"type\":\"BoxZoomTool\"},{\"id\":\"4a4e6ea1-0f1f-427a-b845-f3f5c9fb9193\",\"type\":\"SaveTool\"},{\"id\":\"47518aad-ce3b-4de9-8647-29f5fa03b86e\",\"type\":\"ResetTool\"},{\"id\":\"54da643b-77e3-45d9-886b-d146917009a2\",\"type\":\"HelpTool\"}]},\"id\":\"c6a7406d-08a7-4159-a90e-ff5c5ef64d49\",\"type\":\"Toolbar\"},{\"attributes\":{\"fill_alpha\":{\"field\":\"fill_alpha\"},\"fill_color\":{\"field\":\"color\"},\"height\":{\"field\":\"height\",\"units\":\"data\"},\"line_color\":{\"field\":\"line_color\"},\"width\":{\"field\":\"width\",\"units\":\"data\"},\"x\":{\"field\":\"x\"},\"y\":{\"field\":\"y\"}},\"id\":\"4d4d3e2f-d48d-43ab-9d1e-97bcdb35568a\",\"type\":\"Rect\"},{\"attributes\":{\"plot\":{\"id\":\"fa8554cb-42c6-4be2-9558-58213a7c19b7\",\"subtype\":\"Chart\",\"type\":\"Plot\"}},\"id\":\"54da643b-77e3-45d9-886b-d146917009a2\",\"type\":\"HelpTool\"},{\"attributes\":{\"callback\":null,\"column_names\":[\"width\",\"line_color\",\"x\",\"fill_alpha\",\"line_alpha\",\"y\",\"label\",\"height\",\"color\"],\"data\":{\"VETTING_LEVEL\":[20.0],\"chart_index\":[{\"VETTING_LEVEL\":20.0}],\"color\":[\"#f22c40\"],\"fill_alpha\":[0.8],\"height\":[40.0],\"label\":[{\"VETTING_LEVEL\":20.0}],\"line_alpha\":[1.0],\"line_color\":[\"white\"],\"width\":[0.8],\"x\":[\"20.0\"],\"y\":[20.0]}},\"id\":\"e28e2b51-8dae-4212-bd5a-8ae5ca1e64b0\",\"type\":\"ColumnDataSource\"},{\"attributes\":{\"fill_alpha\":{\"field\":\"fill_alpha\"},\"fill_color\":{\"field\":\"color\"},\"height\":{\"field\":\"height\",\"units\":\"data\"},\"line_color\":{\"field\":\"line_color\"},\"width\":{\"field\":\"width\",\"units\":\"data\"},\"x\":{\"field\":\"x\"},\"y\":{\"field\":\"y\"}},\"id\":\"ddff9f8b-1312-4815-86c8-55d633f036d5\",\"type\":\"Rect\"},{\"attributes\":{},\"id\":\"76c20c9f-8edc-45ee-8d79-40a2aa14f1c4\",\"type\":\"BasicTicker\"}],\"root_ids\":[\"49d254d8-a52d-4c00-91c4-4c3dd7e70a41\"]},\"title\":\"Bokeh Application\",\"version\":\"0.12.0\"}};\n            var render_items = [{\"docid\":\"192fb6f3-fe60-4ad9-88b3-0b15bdffe58a\",\"elementid\":\"4c0b9d1c-424e-4e50-90b7-12d312c4c0e5\",\"modelid\":\"49d254d8-a52d-4c00-91c4-4c3dd7e70a41\",\"notebook_comms_target\":null}];\n            \n            Bokeh.embed.embed_items(docs_json, render_items);\n        });\n      },\n      function(Bokeh) {\n      }\n    ];\n  \n    function run_inline_js() {\n      for (var i = 0; i < inline_js.length; i++) {\n        inline_js[i](window.Bokeh);\n      }\n    }\n  \n    if (window._bokeh_is_loading === 0) {\n      console.log(\"Bokeh: BokehJS loaded, going straight to plotting\");\n      run_inline_js();\n    } else {\n      load_libs(js_urls, function() {\n        console.log(\"Bokeh: BokehJS plotting callback run at\", now());\n        run_inline_js();\n      });\n    }\n  }(this));\n</script>\n                    \n                \n        </div>"
                    }
                }
            ], 
            "cell_type": "code", 
            "execution_count": 11, 
            "source": "display(AllVettingData)"
        }, 
        {
            "metadata": {}, 
            "cell_type": "markdown", 
            "source": "Now, let's look at the data we have:\n\nVETTING_LEVEL is in three different statuses:\n\n    10 - HIGH\n    \n    20 - MEDIUM\n    \n    30 - LOW\n\n\nPrint the total number of vetting statuses "
        }, 
        {
            "metadata": {
                "collapsed": false
            }, 
            "outputs": [], 
            "cell_type": "code", 
            "execution_count": null, 
            "source": "print('The number of rows labeled high is {}.'.format(AllVettingData.filter(AllVettingData['VETTING_LEVEL'] == 10).count()))\nprint('The number of rows labeled medium is {}.'.format(AllVettingData.filter(AllVettingData['VETTING_LEVEL'] == 20).count()))\nprint('The number of rows labeled low is {}.'.format(AllVettingData.filter(AllVettingData['VETTING_LEVEL'] == 30).count()))\nprint('The number of unlabled rows is {}.'.format(AllVettingData.filter(AllVettingData['VETTING_LEVEL'] == 100).count()))"
        }, 
        {
            "metadata": {}, 
            "cell_type": "markdown", 
            "source": "The majority of the data has not been labeled (VETTING_LABEL=100 means unvetted).  We can not use it for our training data, so filter it out.\nPrint the total number of rows."
        }, 
        {
            "metadata": {
                "collapsed": false
            }, 
            "outputs": [], 
            "cell_type": "code", 
            "execution_count": null, 
            "source": "LabeledVettingData=AllVettingData.filter(\"VETTING_LEVEL != 100\")\nLabeledVettingData.count()"
        }, 
        {
            "metadata": {}, 
            "cell_type": "markdown", 
            "source": "## Step 3  - Feature Engineering.\n### A feature is the elements of the data that we are using in our learning.  We need to transform each one of our features into a format that SparkML can use it.\nMore about the choices for feature engineering can be found here:\nhttp://spark.apache.org/docs/2.0.0/ml-features.html#stringindexer\n\n\nThe first thing we will do is transorm our lables (VETTING_LEVEL) into a format that we can use in the algorithm, and then get back to 'human readable' from in the end. The ML models require that the labels are in a column called 'label'.    The converter helps us transform these back in the end.\n\n"
        }, 
        {
            "metadata": {
                "collapsed": false
            }, 
            "outputs": [], 
            "cell_type": "code", 
            "execution_count": null, 
            "source": "labelIndexer = StringIndexer(inputCol=\"VETTING_LEVEL\", outputCol=\"label\", handleInvalid=\"error\")\nlabelModel = labelIndexer.fit(LabeledVettingData)\nconverter = IndexToString(inputCol=\"prediction\", outputCol=\"predCategory\", labels=labelModel.labels)"
        }, 
        {
            "metadata": {}, 
            "cell_type": "markdown", 
            "source": "Next, we will process all of the features we will use. While there are a variety of choices for transforming elements, we will treat each as a String using the StringIndiser.\n\nStringIndexer is a transformer that encodes a string column to a column of indices. The indices are ordered by value frequencies, so the most frequent value gets index 0. If the input column is numeric, it is cast to string first.\n\nFor our vetting dataset, we are interested in all string based features so we will use the StringIndexer for them.  We need to use 'handleInvalid=\"skip\"' because not all values have been validated in our vetting set.  That means the algorithms will skip these records."
        }, 
        {
            "metadata": {
                "collapsed": false
            }, 
            "outputs": [], 
            "cell_type": "code", 
            "execution_count": null, 
            "source": "occupationIndexer = StringIndexer(inputCol=\"OCCUPATION\", outputCol=\"occupationIndex\", handleInvalid=\"skip\")\ncountryIndexer = StringIndexer(inputCol=\"PASSPORT_COUNTRY_CODE\", outputCol=\"countryIndex\", handleInvalid=\"skip\")\ngenderIndexer = StringIndexer(inputCol=\"GENDER\", outputCol=\"genderIndex\", handleInvalid=\"skip\")\nyearOfBirthIndexer = StringIndexer(inputCol=\"BIRTH_YEAR\", outputCol=\"birthYearIndex\", handleInvalid=\"skip\")"
        }, 
        {
            "metadata": {}, 
            "cell_type": "markdown", 
            "source": "Now, put all of our features into a simple array using a VectorAssembler.\n\nNote that COUNTRIIES_VISITED_COUNT is already a numeric, so we can just put that in the array as is.\n"
        }, 
        {
            "metadata": {
                "collapsed": false
            }, 
            "outputs": [], 
            "cell_type": "code", 
            "execution_count": null, 
            "source": "vecAssembler = VectorAssembler(inputCols=[\"occupationIndex\",\"countryIndex\",\"genderIndex\", \"birthYearIndex\", \"COUNTRIES_VISITED_COUNT\"], outputCol=\"features\")"
        }, 
        {
            "metadata": {}, 
            "cell_type": "markdown", 
            "source": "Normalizer will help us normalize the features into a standard frmat.  It can help us improve the behavior of the learning algorithms.\n"
        }, 
        {
            "metadata": {
                "collapsed": true
            }, 
            "outputs": [], 
            "cell_type": "code", 
            "execution_count": null, 
            "source": "normalizer = Normalizer(inputCol=\"features\", outputCol=\"normFeatures\", p=1.0)"
        }, 
        {
            "metadata": {}, 
            "cell_type": "markdown", 
            "source": "## Step 4- Declare the model that we want to use\n\nThe model here is Naive Bayes.  It will output each prediction into a 'prediction' column.  Naive Bayes  is a probabistic model that learns based on previous decisions.  We will take a best guess at the paramater 'smoothing'- SparkML will help us tune it later!\n\n"
        }, 
        {
            "metadata": {
                "collapsed": false
            }, 
            "outputs": [], 
            "cell_type": "code", 
            "execution_count": null, 
            "source": "nb = NaiveBayes(smoothing=1.0, modelType=\"multinomial\", labelCol=\"label\", predictionCol=\"prediction\")"
        }, 
        {
            "metadata": {}, 
            "cell_type": "markdown", 
            "source": "## Step 5 - Setup the Pipeline\n\nThe pipeline is the guts of the algorithm that strings all the work we've done together.\n\nThe stages are run in order and the input DataFrame is transformed as it passes through each stage.   First, comes the feature transformations, then the assembler to put them togather into one DF.  We pass that into the model. \n\nIn machine learning, it is common to run a sequence of algorithms to process and learn from data, so this can get as complex as we want to make it!"
        }, 
        {
            "metadata": {
                "collapsed": false
            }, 
            "outputs": [], 
            "cell_type": "code", 
            "execution_count": null, 
            "source": "pipeline = Pipeline(stages=[labelIndexer,occupationIndexer,countryIndexer, genderIndexer, yearOfBirthIndexer, vecAssembler, normalizer, nb, converter])"
        }, 
        {
            "metadata": {}, 
            "cell_type": "markdown", 
            "source": "## Step 6 - Train the data\n\nWe will split it into training data which is marked and test data which will be used to test the efficiency of the algorithms.\n\nIt is common to split the split up the data randomly into 70% for training and 30% for testing.  If we were to use a bigger test set, we might use an 80% / 20% split."
        }, 
        {
            "metadata": {
                "collapsed": false
            }, 
            "outputs": [], 
            "cell_type": "code", 
            "execution_count": null, 
            "source": "train, test = LabeledVettingData.randomSplit([70.0,30.0], seed=1)\ntrain.cache()\ntest.cache()\nprint('The number of records in the training data set is {}.'.format(train.count()))\nprint('The number of rows labeled high is {}.'.format(train.filter(train['VETTING_LEVEL'] == 10).count()))\nprint('The number of rows labeled medium is {}.'.format(train.filter(train['VETTING_LEVEL'] == 20).count()))\nprint('The number of rows labeled low is {}.'.format(train.filter(train['VETTING_LEVEL'] == 30).count()))\nprint('')\n\nprint('The number of records in the test data set is {}.'.format(test.count()))\nprint('The number of rows labeled high is {}.'.format(test.filter(test['VETTING_LEVEL'] == 10).count()))\nprint('The number of rows labeled medium is {}.'.format(test.filter(test['VETTING_LEVEL'] == 20).count()))\nprint('The number of rows labeled low is {}.'.format(test.filter(test['VETTING_LEVEL'] == 30).count()))"
        }, 
        {
            "metadata": {}, 
            "cell_type": "markdown", 
            "source": " Fit the pipeline to the training data.  This will run the data through the algorithm to train it based on our labled data.\n \n<div class=\"panel-group\" id=\"accordion-3\">\n  <div class=\"panel panel-default\">\n    <div class=\"panel-heading\">\n      <h4 class=\"panel-title\">\n        <a data-toggle=\"collapse\" data-parent=\"#accordion-3\" href=\"#collapse-3\">\n        Hint</a>\n      </h4>\n    </div>\n    <div id=\"collapse-3\" class=\"panel-collapse collapse\">\n      <div class=\"panel-body\">Type (or copy) the following in the cell below: <br>\n          model = pipeline.fit(train)<br>\n      </div>\n    </div>\n  </div>"
        }, 
        {
            "metadata": {
                "collapsed": false
            }, 
            "outputs": [], 
            "cell_type": "code", 
            "execution_count": null, 
            "source": "# Fit the pipeline to the training data assigning the result to a variable called 'model'.\n\n"
        }, 
        {
            "metadata": {}, 
            "cell_type": "markdown", 
            "source": "Make predictions on document in the Test data set.  This will test the model based on the 10% data we have left in reserve.  Keep in mind that the model has not seen the data in the test data set.\n\n<div class=\"panel-group\" id=\"accordion-4\">\n  <div class=\"panel panel-default\">\n    <div class=\"panel-heading\">\n      <h4 class=\"panel-title\">\n        <a data-toggle=\"collapse\" data-parent=\"#accordion-4\" href=\"#collapse-4\">\n        Hint</a>\n      </h4>\n    </div>\n    <div id=\"collapse-4\" class=\"panel-collapse collapse\">\n      <div class=\"panel-body\">Type (or copy) the following in the cell below: <br>\n          predictions = model.transform(test)<br>\n      </div>\n    </div>\n  </div>"
        }, 
        {
            "metadata": {
                "collapsed": true
            }, 
            "outputs": [], 
            "cell_type": "code", 
            "execution_count": null, 
            "source": "# Make predictions on the test data assigning the result to a variable called 'predictions'.\n"
        }, 
        {
            "metadata": {}, 
            "cell_type": "markdown", 
            "source": "## Step 7 -  Show and Evaluate Results\n\nNote that we only got a small sample of the results back beacuse we have a very small about of training data. "
        }, 
        {
            "metadata": {
                "collapsed": false
            }, 
            "outputs": [], 
            "cell_type": "code", 
            "execution_count": null, 
            "source": "predictions.count()"
        }, 
        {
            "metadata": {}, 
            "cell_type": "markdown", 
            "source": "SparkML has automated ways to look at result quality called Evaluators.  More information can be found here:\nhttp://spark.apache.org/docs/latest/mllib-evaluation-metrics.html\n\nFor simplicity here, we will use a a common evaluation method called Reciever Operator Characteristic.  This genenerally is used for binary classifiers, but we will use it because we only have 3 levels of prediction.\n\nThe curve is created by plotting the true positive rate against the false positive rate at various threshold settings. The ROC curve is thus the sensitivity as a function of fall-out. The area under the ROC curve is useful for comparing and selecting the best machine learning model for a given data set. A model with an area under the ROC curve score near 1 has very good performance. A model with a score near 0.5 is about as good as flipping a coin."
        }, 
        {
            "metadata": {
                "collapsed": false
            }, 
            "outputs": [], 
            "cell_type": "code", 
            "execution_count": null, 
            "source": "evaluator = BinaryClassificationEvaluator().setLabelCol(\"label\").setMetricName(\"areaUnderROC\")\nprint('Area under the ROC curve = {}.'.format(evaluator.evaluate(predictions)))"
        }, 
        {
            "metadata": {}, 
            "cell_type": "markdown", 
            "source": "## Step 8 - Automatic algorithm Tuning - Also Called  Hyperparameter Tuning\n\n\nSpark ML algorithms provide many hyperparameters for tuning models. These hyperparameters are distinct from the model parameters being optimized by Spark ML itself.  Hyperparameter tuning is accomplished by choosing the best set of parameters based on model performance on test data that the model was not trained with. All combinations of hyperparameters specified will be tried in order to find the one that leads to the model with the best evaluation result."
        }, 
        {
            "metadata": {
                "collapsed": true
            }, 
            "cell_type": "markdown", 
            "source": "\nFirst we will build a paramater grid to tell SparkML what to change in its testing.  Note that we are changing all the paramaters we setup in our pipeline before - the 'smoothing' in our model, and the normalizer parameter."
        }, 
        {
            "metadata": {
                "collapsed": false
            }, 
            "outputs": [], 
            "cell_type": "code", 
            "execution_count": null, 
            "source": "paramGrid = (ParamGridBuilder().addGrid(nb.smoothing, [0.25, 0.5, 0.75])\n                 .addGrid(normalizer.p, [1.0, 2.0]).build())"
        }, 
        {
            "metadata": {}, 
            "cell_type": "markdown", 
            "source": "Now, create a cross validator to tune the pipeline with the generated parameter grid.  Cross-validation attempts to fit the underlying estimator with user-specified combinations of parameters, cross-evaluate the fitted models, and output the best one.  "
        }, 
        {
            "metadata": {
                "collapsed": true
            }, 
            "outputs": [], 
            "cell_type": "code", 
            "execution_count": null, 
            "source": "cv = CrossValidator().setEstimator(pipeline).setEvaluator(evaluator).setEstimatorParamMaps(paramGrid).setNumFolds(10)"
        }, 
        {
            "metadata": {}, 
            "cell_type": "markdown", 
            "source": "Next, we will run the models through the grid we set above.  It runs Cross-evaluate the ML Pipeline to find the best model.  Note that since runs the model several times, it takes a few minutes to run."
        }, 
        {
            "metadata": {
                "collapsed": false
            }, 
            "outputs": [], 
            "cell_type": "code", 
            "execution_count": null, 
            "source": "cvModel = cv.fit(train)\nprint('Area under the ROC curve for best fitted model = {}.'.format(evaluator.evaluate(cvModel.transform(test))))"
        }, 
        {
            "metadata": {}, 
            "cell_type": "markdown", 
            "source": "Let's see what improvement we achieve by tuning the hyperparameters using cross-evaluation "
        }, 
        {
            "metadata": {
                "collapsed": false
            }, 
            "outputs": [], 
            "cell_type": "code", 
            "execution_count": null, 
            "source": "print('Area under the ROC curve for non-tuned model = {}.'.format(evaluator.evaluate(predictions)))\nprint('Area under the ROC curve for best fitted model = {}.'.format(evaluator.evaluate(cvModel.transform(test))))\nprint('Improvement = {0:0.2f}%'.format((evaluator.evaluate(cvModel.transform(test)) - evaluator.evaluate(predictions)) *100 / evaluator.evaluate(predictions)))"
        }, 
        {
            "metadata": {}, 
            "cell_type": "markdown", 
            "source": "We did a bit better with the new params!  Let's use \"cvModel\" instead of \"model\" below, because SparkML told us it was the best result."
        }, 
        {
            "metadata": {}, 
            "cell_type": "markdown", 
            "source": "## Step 9 - Score the remaining records that were unscored, and load them into a new table in the database.\n\nFirst, we want to only get the unvetted records."
        }, 
        {
            "metadata": {
                "collapsed": true
            }, 
            "outputs": [], 
            "cell_type": "code", 
            "execution_count": null, 
            "source": "NewVettingData=AllVettingData.filter(\"VETTING_LEVEL == 100\")"
        }, 
        {
            "metadata": {}, 
            "cell_type": "markdown", 
            "source": "Next, transform the new model with the new vetting records"
        }, 
        {
            "metadata": {
                "collapsed": false
            }, 
            "outputs": [], 
            "cell_type": "code", 
            "execution_count": null, 
            "source": "newPreds = cvModel.transform(NewVettingData)"
        }, 
        {
            "metadata": {}, 
            "cell_type": "markdown", 
            "source": " Show the data we have predicted and some of the fields in the data.  "
        }, 
        {
            "metadata": {
                "collapsed": false
            }, 
            "outputs": [], 
            "cell_type": "code", 
            "execution_count": null, 
            "source": "newPreds.select(\"UUID\", \"prediction\", \"predCategory\", \"probability\", \"ALT_NAME\", \"GENDER\", \"COUNTRIES_VISITED_COUNT\", \"PASSPORT_COUNTRY_CODE\" ).show()"
        }, 
        {
            "metadata": {}, 
            "cell_type": "markdown", 
            "source": "Remember that VETTING_LEVEL is in three different statuses:\n\n\n10- HIGH\n\n20- MEDIUM\n\n30 - LOW\n\n\nLet's print the total number of vetting statuses that we predicted.  The actual predicted data is low because we only have a few vetted records.  Remember that we had to 'skip' and features that were not in our trained data, so if we didn't have someone who was born in a certain year in our training data, we won't be able to predict a result."
        }, 
        {
            "metadata": {
                "collapsed": false
            }, 
            "outputs": [], 
            "cell_type": "code", 
            "execution_count": null, 
            "source": "print('The number of records in the test data set is {}.'.format(newPreds.count()))\nprint('The number of rows labeled high is {}.'.format(newPreds.filter(newPreds['predCategory'] == 10).count()))\nprint('The number of rows labeled medium is {}.'.format(newPreds.filter(newPreds['predCategory'] == 20).count()))\nprint('The number of rows labeled low is {}.'.format(newPreds.filter(newPreds['predCategory'] == 30).count()))"
        }, 
        {
            "metadata": {}, 
            "cell_type": "markdown", 
            "source": "Now, downselect all the values we need to join in our next lab to display the results, and write to the database.  We will only load the unique ID and the prediction into our new table in dashDB.  We'll call the table \"FEMALE_TRAFFICKING_ML_RESULTS\""
        }, 
        {
            "metadata": {
                "collapsed": false
            }, 
            "outputs": [], 
            "cell_type": "code", 
            "execution_count": null, 
            "source": "valuesToWrite= newPreds.select(\"UUID\",  \"predCategory\")\nvaluesToWrite.write.jdbc(credentials_1[\"jdbcurl\"], \"FEMALE_HUMAN_TRAFFICKING_ML_RESULTS\", properties = {\"user\" : credentials_1[\"username\"], \"password\" : credentials_1[\"password\"]}, mode=\"overwrite\")"
        }, 
        {
            "metadata": {
                "collapsed": true
            }, 
            "outputs": [], 
            "cell_type": "code", 
            "execution_count": null, 
            "source": ""
        }
    ], 
    "nbformat_minor": 0
}