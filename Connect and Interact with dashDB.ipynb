{
    "nbformat": 4, 
    "cells": [
        {
            "cell_type": "markdown", 
            "metadata": {}, 
            "source": "\n# Access dashDB and explore the data with Python\n\nThis notebook shows how to access a dashDB data warehouse or DB2 database when using Python. The examples use a dashDB warehouse, but the instructions apply to both dashDB and DB2.\n\n<!--\n![dashDB Logo](https://ibm.box.com/shared/static/42yt39czuksqdi278xpy96txtlw3lfmb.png)\n![Python Logo](https://www.python.org/static/community_logos/python-logo-master-v3-TM-flattened.png)\n-->\n\n## Table of contents\n\n1. [Setup](#Setup) \n1. [Import the *ibmdbpy* Python library](#Import-the-ibmdbpy-Python-library)\n1. [Insert the database connection credentials](#Insert-the-database-connection-credentials)\n1. [Create the database connection](#Create-the-database-connection)\n1. [Use dataframe to read and manipulate tables](#Use-dataframe-to-read-and-manipulate-tables)\n1. [Use SQL](#Use-SQL)\n1. [Explore the trafficking data](#Explore-the-trafficking-data)\n1. [Close the database connection](#Close-the-database-connection)\n1. [Summary](#Summary)\n\n\n## Setup\n\nBefore beginning you will need a *dashDB* instance. dashDB is a fully managed cloud data warehouse, purpose-built for analytics. It offers massively parallel processing (MPP) scale and compatibility with a wide range of business intelligence (BI) tools.  \n\n1. __RIGHT-CLICK__ [this link](https://github.com/Davin-IBM/Proof-of-Technology/raw/master/DSX/Lab-1/data/Female-human-trafficking.csv) and select __Save Link As...__ to save the `Female-human-trafficking.csv` file to your desktop.\n1. Download the [dashDB setup instructions](https://github.com/Davin-IBM/Proof-of-Technology/raw/master/DSX/Lab-1/dashDB-Setup.pdf).\n1. Open up the PDF file that you've just downloaded in the previous step and follow the instructions there to setup dashDB, load the human trafficking data and create a DSX data connection.\n\n<a class=\"ibm-tooltip\" href=\"https://console.ng.bluemix.net/catalog/services/dashdb\" target=\"_blank\" title=\"\" id=\"ibm-tooltip-0\">\n<img alt=\"IBM Bluemix.Get started now\" height=\"193\" width=\"153\" src=\"https://ibm.box.com/shared/static/42yt39czuksqdi278xpy96txtlw3lfmb.png\" >\n</a>\n\n\n## Import the *ibmdbpy* Python library\n\nPython support for dashDB and DB2 is provided by the [ibmdbpy Python library](https://pypi.python.org/pypi/ibmdbpy). Connecting to dashDB or DB2 is also enabled by a DB2 driver, libdb2.so.  The ibmdbpy project provides a Python interface for data manipulation and access to in-database algorithms in IBM dashDB and IBM DB2. It accelerates Python analytics by seamlessly pushing operations written in Python into the underlying database for execution, thereby benefitting from in-database performance-enhancing features, such as columnar storage and parallel processing.\n\n### Setup a *JDBC* connection\nThe JDBC Connection is based on a Java virtual machine. From the ibmdbpy library you can use JDBC to connect to a remote dashDB/DB2 instance. To be able to use JDBC to connect, we need to import the *JayDeBeApi* package and we need to add the dashDB/DB2 data connector jar file to the java class path.\n\nTo run a cell, click on the cell and click the run button in the toolbar or press __SHIFT-ENTER__.\n\nRun the following commands to install and load the `JayDeBeApi` package and the `ibmdbpy` library into your notebook:"
        }, 
        {
            "cell_type": "code", 
            "execution_count": null, 
            "source": "!pip install jaydebeapi --user\n!pip install ibmdbpy --user", 
            "metadata": {
                "collapsed": false
            }, 
            "outputs": []
        }, 
        {
            "cell_type": "code", 
            "execution_count": null, 
            "source": "import jaydebeapi\nfrom ibmdbpy import IdaDataBase\nfrom ibmdbpy import IdaDataFrame", 
            "metadata": {
                "collapsed": true
            }, 
            "outputs": []
        }, 
        {
            "cell_type": "code", 
            "execution_count": null, 
            "source": "import os\nos.environ['CLASSPATH'] = \"/usr/local/src/data-connectors-1.4.1/db2jcc4-10.5.0.6.jar\"", 
            "metadata": {
                "collapsed": true
            }, 
            "outputs": []
        }, 
        {
            "cell_type": "code", 
            "execution_count": null, 
            "source": "import jpype\nargs='-Djava.class.path=%s' % os.environ['CLASSPATH']\njvm = jpype.getDefaultJVMPath()\njpype.startJVM(jvm, args)", 
            "metadata": {
                "collapsed": false
            }, 
            "outputs": []
        }, 
        {
            "cell_type": "markdown", 
            "metadata": {}, 
            "source": "\n## Insert the database connection credentials\n\nClick on the cell below, then on the notebook toolbar, click the box of 1's and 0's, find your database connection and click the __Insert to code__ link under the connection name to have a `credentials_1` dictionary added to the notebook.\n\n__Note__: When this dictionary is inserted, it might have a different name than `credentials_1`.  If so change the dictionary name to `credentials_1` so that the rest of the notebook will work.\n\nConnecting to dashDB requires the following information which are provided by the credentials dictionary inserted:\n* Database name \n* Host DNS name or IP address \n* Host port\n* Connection protocol\n* User ID\n* User password\n\nThe information `credentials_1` will be used to build a connection string in a subsequent step."
        }, 
        {
            "cell_type": "code", 
            "execution_count": null, 
            "source": "# The code was removed by DSX for sharing.", 
            "metadata": {
                "collapsed": false
            }, 
            "outputs": []
        }, 
        {
            "cell_type": "markdown", 
            "metadata": {}, 
            "source": "## Create the database connection\n\nThe following code snippet creates a connection string `connection_string`\nand uses the `connection_string` to create a database connection object:\n"
        }, 
        {
            "cell_type": "code", 
            "execution_count": null, 
            "source": "connection_string = 'jdbc:db2://{hostname}:{port}/{db}:user={username};password={password};'.format(**credentials_1)\nidadb = IdaDataBase(dsn=connection_string)", 
            "metadata": {
                "collapsed": false
            }, 
            "outputs": []
        }, 
        {
            "cell_type": "markdown", 
            "metadata": {}, 
            "source": "## Use a dataframe to read and manipulate tables\n\nYou can now use the connection object `idadb` to query the database:"
        }, 
        {
            "cell_type": "code", 
            "execution_count": null, 
            "source": "df = idadb.show_tables(show_all = True)\ndf.head(10)", 
            "metadata": {
                "collapsed": false
            }, 
            "outputs": []
        }, 
        {
            "cell_type": "code", 
            "execution_count": null, 
            "source": "idadb.exists_table_or_view('GOSALESDW.EMP_EXPENSE_FACT')", 
            "metadata": {
                "collapsed": false
            }, 
            "outputs": []
        }, 
        {
            "cell_type": "markdown", 
            "metadata": {}, 
            "source": "Using our previously opened IdaDataBase instance named \u2018idadb\u2019, we can open one or several IdaDataFrame objects. They behave like pointers to remote tables.\n\nLet us open the *EMP_EXPENSE_FACT* data set, assuming it is stored in the database under the name \u2018GOSALESDW.EMP_EXPENSE_FACT\u2019. The following cell assigns the dataset to a pandas DataFrame.\n\nThe [Pandas data analysis library](http://pandas.pydata.org/) provides high-performance, easy-to-use data structures and data analysis tools for the Python programming language. Pandas allows easy processing and manipulation of tabular data, so it is a perfect fit for data extracted from relational databases.\n"
        }, 
        {
            "cell_type": "code", 
            "execution_count": null, 
            "source": "idadf = IdaDataFrame(idadb, 'GOSALESDW.EMP_EXPENSE_FACT')", 
            "metadata": {
                "collapsed": false
            }, 
            "outputs": []
        }, 
        {
            "cell_type": "markdown", 
            "metadata": {}, 
            "source": "You can very easily explore the data in the IdaDataFrame by using built in functions.\n\nUse IdaDataFrame.head to get the first n records of your data set (default 5):"
        }, 
        {
            "cell_type": "code", 
            "execution_count": null, 
            "source": "idadf.head()", 
            "metadata": {
                "collapsed": false
            }, 
            "outputs": []
        }, 
        {
            "cell_type": "markdown", 
            "metadata": {}, 
            "source": "Use IdaDataFrame.tail to get the last n records of your data set (default 5):"
        }, 
        {
            "cell_type": "code", 
            "execution_count": null, 
            "source": "idadf.tail(10)", 
            "metadata": {
                "collapsed": false, 
                "scrolled": true
            }, 
            "outputs": []
        }, 
        {
            "cell_type": "markdown", 
            "metadata": {}, 
            "source": "__Note__: Because dashDB operates on a distributed system, the order of rows using IdaDataFrame.head and IdaDataFrame.tail is not guaranteed unless the table is sorted (using an \u2018ORDER BY\u2019 clause) or a column is declared as index for the IdaDataFrame (parameter/attribute indexer).\n\nIdaDataFrame also implements most attributes that are available in a pandas DataFrame, here is an example of getting the _shape_ of the data frame (rows, columns):"
        }, 
        {
            "cell_type": "code", 
            "execution_count": null, 
            "source": "idadf.shape", 
            "metadata": {
                "collapsed": false
            }, 
            "outputs": []
        }, 
        {
            "cell_type": "code", 
            "execution_count": null, 
            "source": "idadf.columns", 
            "metadata": {
                "collapsed": false
            }, 
            "outputs": []
        }, 
        {
            "cell_type": "markdown", 
            "metadata": {}, 
            "source": "Several standard statistics functions from the pandas interface are also available for IdaDataFrame.  You can use the __TAB__ key after the `.` to see the methods and attributes available in an object in a pulldown menu. \n\nFor example, let us calculate various summary statistics for the data set by using the `describe` method for the IdaDataFrame instance:"
        }, 
        {
            "cell_type": "code", 
            "execution_count": null, 
            "source": "# idadf.[Press TAB HERE]\n\nidadf.describe()", 
            "metadata": {
                "collapsed": false
            }, 
            "outputs": []
        }, 
        {
            "cell_type": "markdown", 
            "metadata": {}, 
            "source": "__Note__: It is possible to subset the rows of an IdaDataFrame by accessing the IdaDataFrame with a slice object. You can also use the IdaDataFrame.loc attribute, which contains an ibmdbpy.Loc object. However, the row selection might be inaccurate if the current IdaDataFrame is not sorted or does not contain an indexer. This is due to the fact that dashDB stores the data across several nodes if available. Moreover, because dashDB is a column oriented database, row numbers are undefined:"
        }, 
        {
            "cell_type": "code", 
            "execution_count": null, 
            "source": "idadf_new = idadf[0:9] # Select the first 10 rows\nidadf_new.head(10)", 
            "metadata": {
                "collapsed": false, 
                "scrolled": true
            }, 
            "outputs": []
        }, 
        {
            "cell_type": "markdown", 
            "metadata": {}, 
            "source": "## Use SQL\nWe can also use SQL to get the top 10."
        }, 
        {
            "cell_type": "code", 
            "execution_count": null, 
            "source": "top_10_df = idadb.ida_query('SELECT * FROM GOSALESDW.EMP_EXPENSE_FACT LIMIT 10')\ntop_10_df", 
            "metadata": {
                "collapsed": false
            }, 
            "outputs": []
        }, 
        {
            "cell_type": "markdown", 
            "metadata": {}, 
            "source": "Find the top 10 employees (by id) by the number of transactions in the `GOSALESDW.EMP_EXPENSE_FACT` table."
        }, 
        {
            "cell_type": "code", 
            "execution_count": null, 
            "source": "idadb.ida_query('SELECT EMPLOYEE_KEY, COUNT(*) AS COUNT FROM GOSALESDW.EMP_EXPENSE_FACT GROUP BY EMPLOYEE_KEY ORDER BY COUNT DESC LIMIT 10')", 
            "metadata": {
                "collapsed": false
            }, 
            "outputs": []
        }, 
        {
            "cell_type": "markdown", 
            "metadata": {}, 
            "source": "## Explore the trafficking data\n__Time to apply what you've learned!__\n\nComplete the tasks that are commented in the code blocks.  If you get stuck, check out the hints.  If you're still stuck, read the solution.  If you have any questions, feel free to ask."
        }, 
        {
            "cell_type": "code", 
            "execution_count": null, 
            "source": "# Create a variable called `trafficking_table` and set it to the name of the trafficking table in your dashDB instance, for example:\n# trafficking_table = 'DASH1234.FEMALE_TRAFFICKING'\n\ntrafficking_table = # CODE HERE\n\nidadb.exists_table_or_view(trafficking_table)\n\n# The output of this block should be:\n# True", 
            "metadata": {
                "collapsed": false
            }, 
            "outputs": []
        }, 
        {
            "cell_type": "markdown", 
            "metadata": {}, 
            "source": "<div class=\"panel-group\" id=\"accordion-10\">\n  <div class=\"panel panel-default\">\n    <div class=\"panel-heading\">\n      <h4 class=\"panel-title\"><a data-toggle=\"collapse\" data-parent=\"#accordion-10\" href=\"#collapse1-10\">Hint 1</a></h4>\n    </div>\n    <div id=\"collapse1-10\" class=\"panel-collapse collapse\">\n      <div class=\"panel-body\">\n      \nThe table schema and name can be found [here](#Use-a-dataframe-to-read-and-manipulate-tables).\n      \n      </div>\n    </div>\n  </div>\n</div>"
        }, 
        {
            "cell_type": "code", 
            "execution_count": null, 
            "source": "# Create an IdaDataFrame called trafficking_df with the trafficking data and determine the shape of the table using the shape atribute of the trafficking_df instance\n\ntrafficking_df = # CODE HERE\n\ntrafficking_df.shape", 
            "metadata": {
                "collapsed": false
            }, 
            "outputs": []
        }, 
        {
            "cell_type": "markdown", 
            "metadata": {}, 
            "source": "<div class=\"panel-group\" id=\"accordion-11\">\n  <div class=\"panel panel-default\">\n    <div class=\"panel-heading\">\n      <h4 class=\"panel-title\"><a data-toggle=\"collapse\" data-parent=\"#accordion-11\" href=\"#collapse1-11\">Hint 1</a></h4>\n    </div>\n    <div id=\"collapse1-11\" class=\"panel-collapse collapse\">\n      <div class=\"panel-body\">\n      \nIt's similar to the code:\n<pre>\nidadf = IdaDataFrame(idadb, 'GOSALESDW.EMP_EXPENSE_FACT')\n</pre>\n      \n      </div>\n    </div>\n  </div>\n  <div class=\"panel panel-default\">\n    <div class=\"panel-heading\">\n      <h4 class=\"panel-title\"><a data-toggle=\"collapse\" data-parent=\"#accordion-11\" href=\"#collapse2-11\">Solution</a></h4>\n    </div>\n    <div id=\"collapse2-11\" class=\"panel-collapse collapse\">\n      <div class=\"panel-body\">\n<pre>\ntrafficking_df = IdaDataFrame(idadb, trafficking_table)\n</pre>\n      </div>\n    </div>\n  </div>\n</div>\n"
        }, 
        {
            "cell_type": "code", 
            "execution_count": null, 
            "source": "# Show the top 5 records from the table using a method of the IdaDataFrame or alternatively via a SQL query using the ida_query method of the idadb instance\n\n# CODE HERE", 
            "metadata": {
                "collapsed": false
            }, 
            "outputs": []
        }, 
        {
            "cell_type": "markdown", 
            "metadata": {}, 
            "source": "<div class=\"panel-group\" id=\"accordion-12\">\n  <div class=\"panel panel-default\">\n    <div class=\"panel-heading\">\n      <h4 class=\"panel-title\"><a data-toggle=\"collapse\" data-parent=\"#accordion-12\" href=\"#collapse1-12\">Hint 1</a></h4>\n    </div>\n    <div id=\"collapse1-12\" class=\"panel-collapse collapse\">\n      <div class=\"panel-body\">\n      \nHeads or tails?\n      \n      </div>\n    </div>\n  </div>\n  <div class=\"panel panel-default\">\n    <div class=\"panel-heading\">\n      <h4 class=\"panel-title\"><a data-toggle=\"collapse\" data-parent=\"#accordion-12\" href=\"#collapse2-12\">Solution 1</a></h4>\n    </div>\n    <div id=\"collapse2-12\" class=\"panel-collapse collapse\">\n      <div class=\"panel-body\">\n      Heads!\n<pre>\ntrafficking_df.head()\n</pre> \n      </div>\n    </div>\n  </div>\n  <div class=\"panel panel-default\">\n    <div class=\"panel-heading\">\n      <h4 class=\"panel-title\"><a data-toggle=\"collapse\" data-parent=\"#accordion-12\" href=\"#collapse3-12\">Solution 2</a></h4>\n    </div>\n    <div id=\"collapse3-12\" class=\"panel-collapse collapse\">\n      <div class=\"panel-body\">\n      SQL can work as well!  __Note__: The `+` operator used here is a way to concatenate strings in Python.\n<pre>\nidadb.ida_query('SELECT * FROM ' + trafficking_table + ' LIMIT 10')\n</pre>\n      </div>\n    </div>\n  </div>\n</div>\n"
        }, 
        {
            "cell_type": "code", 
            "execution_count": null, 
            "source": "# Query the trafficking table so that we get the vetting_level and the number of times that vetting_level appears in the trafficking table, ordered by the vetting_level\n\n# CODE HERE", 
            "metadata": {
                "collapsed": false
            }, 
            "outputs": []
        }, 
        {
            "cell_type": "markdown", 
            "metadata": {}, 
            "source": "\n<div class=\"panel-group\" id=\"accordion-13\">\n  <div class=\"panel panel-default\">\n    <div class=\"panel-heading\">\n      <h4 class=\"panel-title\"><a data-toggle=\"collapse\" data-parent=\"#accordion-13\" href=\"#collapse1-13\">Hint 1</a></h4>\n    </div>\n    <div id=\"collapse1-13\" class=\"panel-collapse collapse\">\n      <div class=\"panel-body\">\n      \nIt is similar to:\n\n<pre>\nidadb.ida_query('SELECT EMPLOYEE_KEY, COUNT(*) AS COUNT FROM GOSALESDW.EMP_EXPENSE_FACT GROUP BY EMPLOYEE_KEY ORDER BY COUNT DESC LIMIT 10')\n</pre>\n      \n      </div>\n    </div>\n  </div>\n  <div class=\"panel panel-default\">\n    <div class=\"panel-heading\">\n      <h4 class=\"panel-title\"><a data-toggle=\"collapse\" data-parent=\"#accordion-13\" href=\"#collapse2-13\">Hint 2</a></h4>\n    </div>\n    <div id=\"collapse2-13\" class=\"panel-collapse collapse\">\n      <div class=\"panel-body\">\n      \nThe SQL query is:\n\n<pre>\n'SELECT VETTING_LEVEL, COUNT(*) AS COUNT FROM ' + trafficking_table + ' GROUP BY VETTING_LEVEL ORDER BY VETTING_LEVEL'\n</pre>\n      \n      </div>\n    </div>\n  </div>\n  <div class=\"panel panel-default\">\n    <div class=\"panel-heading\">\n      <h4 class=\"panel-title\"><a data-toggle=\"collapse\" data-parent=\"#accordion-13\" href=\"#collapse3-13\">Solution</a></h4>\n    </div>\n    <div id=\"collapse3-13\" class=\"panel-collapse collapse\">\n      <div class=\"panel-body\">\n      \n<pre>\nidadb.ida_query('SELECT VETTING_LEVEL, COUNT(*) AS COUNT FROM ' + trafficking_table + ' GROUP BY VETTING_LEVEL ORDER BY VETTING_LEVEL')\n</pre>\n\n      </div>\n    </div>\n  </div>\n</div>\n"
        }, 
        {
            "cell_type": "markdown", 
            "metadata": {}, 
            "source": "## Close the database connection\n\nTo ensure expected behaviors, IdaDataBase instances need to be closed.\n\n__Note__: Closing the *IdaDataBase* is equivalent to closing the connection: once the connection is closed, it is no longer possible to use the *IdaDataBase* instance and any *IdaDataFrame* instances that were opened on this connection."
        }, 
        {
            "cell_type": "code", 
            "execution_count": null, 
            "source": "idadb.close()", 
            "metadata": {
                "collapsed": false
            }, 
            "outputs": []
        }, 
        {
            "cell_type": "markdown", 
            "metadata": {}, 
            "source": "## Summary\n\nThis notebook demonstrated how to establish a JDBC connection to a dashDB (or DB2) database from Python, work with data frames and explore the data using SQL and data frame object attributes and methods."
        }, 
        {
            "cell_type": "markdown", 
            "metadata": {}, 
            "source": "## Take it farther\n### Free courses on <a href=\"https://bigdatauniversity.com/courses/?utm_source=tutorial-dashdb-python&utm_medium=github&utm_campaign=bdu/\" rel=\"noopener noreferrer\" target=\"_blank\">Big Data University</a>: <a href=\"https://bigdatauniversity.com/courses/?utm_source=tutorial-dashdb-python&utm_medium=github&utm_campaign=bdu\" rel=\"noopener noreferrer\" target=\"_blank\"><img src = \"https://ibm.box.com/shared/static/xomeu7dacwufkoawbg3owc8wzuezltn6.png\" width=600px> </a>"
        }
    ], 
    "metadata": {
        "kernelspec": {
            "display_name": "Python 3.5 (Experimental) with Spark 2.0", 
            "language": "python", 
            "name": "python3-spark20"
        }, 
        "language_info": {
            "codemirror_mode": {
                "version": 3, 
                "name": "ipython"
            }, 
            "version": "3.5.2", 
            "name": "python", 
            "pygments_lexer": "ipython3", 
            "nbconvert_exporter": "python", 
            "mimetype": "text/x-python", 
            "file_extension": ".py"
        }
    }, 
    "nbformat_minor": 0
}